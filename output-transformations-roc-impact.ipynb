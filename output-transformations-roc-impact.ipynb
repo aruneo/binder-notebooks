{
 "cells": [
  {
   "cell_type": "markdown",
   "metadata": {},
   "source": [
    "# The Impact of Model Output Transformations on ROC"
   ]
  },
  {
   "cell_type": "markdown",
   "metadata": {},
   "source": [
    "Risk Assessment tools are currently used to assist in decision-making at several points in the criminal justice system. These tools take in some data about an individual and to provide a 'risk score' for an individual that's reflective of their likelihood of committing a specific behavior in the future. A standard outcome of interest is recidivism, or `a person's relapse into criminal behavior, often after the person receives sanctions or undergoes intervention for a previous crime` ([NIJ](https://www.nij.gov/topics/corrections/recidivism/Pages/welcome.aspx)). One thing the field seems to have settled on is using area under the receiver operating characteristic (AUC ROC) scores in evaluating the accuracy of these tools. AUC is a sensible evaluation measure since it's indifferent to base rates and has a straightforward interpretation. \n",
    "\n",
    "\n",
    "## COMPAS & Risk Assessment Scores\n",
    "In the world of risk assessment, the most well known risk assessment tool is probably COMPAS by Noirthpointe. COMPAS is a black box algorithm that is used to predict recidivism, and was the subject of an [investigation by ProPublica](https://www.propublica.org/article/how-we-analyzed-the-compas-recidivism-algorithm) as well as a [lawsuit in Wisconsin](https://www.nytimes.com/2016/06/23/us/backlash-in-wisconsin-against-using-data-to-foretell-defendants-futures.html). \n",
    "\n",
    "Northpointe [claims](http://www.northpointeinc.com/files/downloads/FAQ_Document.pdf) that the with the COMPAS tool \"AUCs ranged from .68 to .71 in the full sample\" for general recidivism, with an \"AUC 0.67 for violent recidivism\". In reading these claims, it is important to consider there is [some evidence of authorship bias](http://journals.plos.org/plosone/article?id=10.1371/journal.pone.0072484) in model evaluation, to the extent that \"[...] studies authored by tool designers reported predictive validity findings around two times higher those of investigations reported by independent authors\".\n",
    "\n",
    "Scores from the COMPAS tool go through several transformations before they end up in a decision maker's hands. The first output is a `raw score` from the model itself, which appears to be a normally distributed score. These raw scores are converted to a `decile score`, which I assume is based on the full range of scores. Finally, Northpointe also privdes a mapping of decile scores to qualitative risk levels following this mapping:\n",
    "\n",
    "- **1-4**: Low risk\n",
    "- **5-7**: Medium risk\n",
    "- **8+**: High risk\n",
    "\n",
    "In evaluating model accuracy, it's relevant to look at the model accuracy of the information presented to the decision maker. That is, if a judicial official views receives a report with the qualitative risk level (High, Medium, Low) then we should be concerned with the accuracy of those model scores. The the accuracy of the `raw score` or the `decile score` doesn't really matter -- the user of this tool never sees this underlying information, though the reported accuracy of the tool may depend on these pre-transformed measures.\n",
    "\n",
    "We'll evaluate model accuracy at each one of these transformations. Using the [data](https://github.com/propublica/compas-analysis/) published by ProPublica that contains COMPAS scores and outcomes for individuals in Broward County, Florida.\n",
    "\n",
    "## Outline\n",
    "This analysis is comprised of 3 parts:\n",
    "\n",
    "1. Processing & Exploring the COMPAS dataset from ProPublica\n",
    "2. Analyzing AUC ROC scores by raw/decile/qualitative transformation\n",
    "3. Analyzing the general impact of binning on model accuracy"
   ]
  },
  {
   "cell_type": "markdown",
   "metadata": {},
   "source": [
    "## 1. Data Processing & Exploring\n",
    "The final dataset ProPublica uses doesn't have the raw score, but they do provide the raw COMPAS data, which we will merge into the clean dataset. I couldn't find a clear ID or case number to merge on at a glance, so we're merging on `first name`, `last name`, and `compas screening date`. This merging scheme may lead to some discrepancies between the dataset ProPublica used for analysis, but should match most cases in general. In general, I follow [their process](https://github.com/propublica/compas-analysis/blob/master/Compas%20Analysis.ipynb) of filtering observations based on data quality assumptions."
   ]
  },
  {
   "cell_type": "code",
   "execution_count": 1,
   "metadata": {},
   "outputs": [],
   "source": [
    "import pandas as pd\n",
    "import seaborn as sns\n",
    "\n",
    "sns.set_context(\"notebook\", font_scale=1.5)\n",
    "import matplotlib.pyplot as plt\n",
    "\n",
    "plt.style.use(\"ggplot\")\n",
    "import numpy as np\n",
    "import scipy\n",
    "\n",
    "from sklearn.metrics import roc_auc_score\n",
    "\n",
    "%matplotlib inline"
   ]
  },
  {
   "cell_type": "code",
   "execution_count": 2,
   "metadata": {},
   "outputs": [],
   "source": [
    "def read_pp_compas_data(csv_url):\n",
    "    d = (\n",
    "        pd.read_csv(csv_url, parse_dates=[\"compas_screening_date\"])\n",
    "        .query(\"days_b_screening_arrest <= 30\")\n",
    "        .query(\"days_b_screening_arrest >= -30\")\n",
    "        .query(\"is_recid != -1\")\n",
    "        .query('c_charge_degree != \"O\"')\n",
    "        .query('score_text != \"N/A\"')\n",
    "        .assign(\n",
    "            score_text=lambda x: x[\"score_text\"].map(\n",
    "                {\"Low\": 1, \"Medium\": 2, \"High\": 3}\n",
    "            ),\n",
    "            v_score_text=lambda x: x[\"v_score_text\"].map(\n",
    "                {\"Low\": 1, \"Medium\": 2, \"High\": 3}\n",
    "            ),\n",
    "        )\n",
    "    )\n",
    "    return d"
   ]
  },
  {
   "cell_type": "code",
   "execution_count": 3,
   "metadata": {},
   "outputs": [],
   "source": [
    "compas_recid = read_pp_compas_data(\n",
    "    \"https://raw.githubusercontent.com/propublica/compas-analysis/master/compas-scores-two-years.csv\"\n",
    ")\n",
    "compas_recid_v = read_pp_compas_data(\n",
    "    \"https://raw.githubusercontent.com/propublica/compas-analysis/master/compas-scores-two-years-violent.csv\"\n",
    ")"
   ]
  },
  {
   "cell_type": "code",
   "execution_count": 4,
   "metadata": {},
   "outputs": [],
   "source": [
    "compas_recid_simple = compas_recid[\n",
    "    [\"first\", \"last\", \"compas_screening_date\", \"decile_score\", \"score_text\", \"is_recid\"]\n",
    "]\n",
    "compas_recid_v_simple = compas_recid_v[\n",
    "    [\n",
    "        \"first\",\n",
    "        \"last\",\n",
    "        \"compas_screening_date\",\n",
    "        \"v_decile_score\",\n",
    "        \"v_score_text\",\n",
    "        \"is_violent_recid\",\n",
    "    ]\n",
    "]\n",
    "\n",
    "compas_scores = pd.merge(\n",
    "    compas_recid_simple,\n",
    "    compas_recid_v_simple,\n",
    "    on=[\"first\", \"last\", \"compas_screening_date\"],\n",
    "    how=\"outer\",\n",
    ")"
   ]
  },
  {
   "cell_type": "code",
   "execution_count": 5,
   "metadata": {},
   "outputs": [
    {
     "data": {
      "text/html": [
       "<div>\n",
       "<style scoped>\n",
       "    .dataframe tbody tr th:only-of-type {\n",
       "        vertical-align: middle;\n",
       "    }\n",
       "\n",
       "    .dataframe tbody tr th {\n",
       "        vertical-align: top;\n",
       "    }\n",
       "\n",
       "    .dataframe thead th {\n",
       "        text-align: right;\n",
       "    }\n",
       "</style>\n",
       "<table border=\"1\" class=\"dataframe\">\n",
       "  <thead>\n",
       "    <tr style=\"text-align: right;\">\n",
       "      <th></th>\n",
       "      <th>first</th>\n",
       "      <th>last</th>\n",
       "      <th>compas_screening_date</th>\n",
       "      <th>decile_score</th>\n",
       "      <th>score_text</th>\n",
       "      <th>is_recid</th>\n",
       "      <th>v_decile_score</th>\n",
       "      <th>v_score_text</th>\n",
       "      <th>is_violent_recid</th>\n",
       "    </tr>\n",
       "  </thead>\n",
       "  <tbody>\n",
       "    <tr>\n",
       "      <th>0</th>\n",
       "      <td>miguel</td>\n",
       "      <td>hernandez</td>\n",
       "      <td>2013-08-14</td>\n",
       "      <td>1.0</td>\n",
       "      <td>1.0</td>\n",
       "      <td>0.0</td>\n",
       "      <td>1.0</td>\n",
       "      <td>1.0</td>\n",
       "      <td>0.0</td>\n",
       "    </tr>\n",
       "    <tr>\n",
       "      <th>1</th>\n",
       "      <td>kevon</td>\n",
       "      <td>dixon</td>\n",
       "      <td>2013-01-27</td>\n",
       "      <td>3.0</td>\n",
       "      <td>1.0</td>\n",
       "      <td>1.0</td>\n",
       "      <td>1.0</td>\n",
       "      <td>1.0</td>\n",
       "      <td>1.0</td>\n",
       "    </tr>\n",
       "    <tr>\n",
       "      <th>2</th>\n",
       "      <td>ed</td>\n",
       "      <td>philo</td>\n",
       "      <td>2013-04-14</td>\n",
       "      <td>4.0</td>\n",
       "      <td>1.0</td>\n",
       "      <td>1.0</td>\n",
       "      <td>NaN</td>\n",
       "      <td>NaN</td>\n",
       "      <td>NaN</td>\n",
       "    </tr>\n",
       "    <tr>\n",
       "      <th>3</th>\n",
       "      <td>marsha</td>\n",
       "      <td>miles</td>\n",
       "      <td>2013-11-30</td>\n",
       "      <td>1.0</td>\n",
       "      <td>1.0</td>\n",
       "      <td>0.0</td>\n",
       "      <td>1.0</td>\n",
       "      <td>1.0</td>\n",
       "      <td>0.0</td>\n",
       "    </tr>\n",
       "    <tr>\n",
       "      <th>4</th>\n",
       "      <td>edward</td>\n",
       "      <td>riddle</td>\n",
       "      <td>2014-02-19</td>\n",
       "      <td>6.0</td>\n",
       "      <td>2.0</td>\n",
       "      <td>1.0</td>\n",
       "      <td>NaN</td>\n",
       "      <td>NaN</td>\n",
       "      <td>NaN</td>\n",
       "    </tr>\n",
       "  </tbody>\n",
       "</table>\n",
       "</div>"
      ],
      "text/plain": [
       "    first       last compas_screening_date  decile_score  score_text  \\\n",
       "0  miguel  hernandez            2013-08-14           1.0         1.0   \n",
       "1   kevon      dixon            2013-01-27           3.0         1.0   \n",
       "2      ed      philo            2013-04-14           4.0         1.0   \n",
       "3  marsha      miles            2013-11-30           1.0         1.0   \n",
       "4  edward     riddle            2014-02-19           6.0         2.0   \n",
       "\n",
       "   is_recid  v_decile_score  v_score_text  is_violent_recid  \n",
       "0       0.0             1.0           1.0               0.0  \n",
       "1       1.0             1.0           1.0               1.0  \n",
       "2       1.0             NaN           NaN               NaN  \n",
       "3       0.0             1.0           1.0               0.0  \n",
       "4       1.0             NaN           NaN               NaN  "
      ]
     },
     "execution_count": 5,
     "metadata": {},
     "output_type": "execute_result"
    }
   ],
   "source": [
    "compas_scores.head()"
   ]
  },
  {
   "cell_type": "markdown",
   "metadata": {},
   "source": [
    "### Read Raw Score Data"
   ]
  },
  {
   "cell_type": "code",
   "execution_count": 6,
   "metadata": {},
   "outputs": [],
   "source": [
    "def read_compas_raw(csv_url):\n",
    "    columns = [\"LastName\", \"FirstName\", \"Screening_Date\", \"RawScore\", \"DisplayText\"]\n",
    "    colnames = {\n",
    "        \"FirstName\": \"first\",\n",
    "        \"LastName\": \"last\",\n",
    "        \"Screening_Date\": \"compas_screening_date\",\n",
    "    }\n",
    "\n",
    "    d = (\n",
    "        pd.read_csv(csv_url, parse_dates=[\"Screening_Date\"], usecols=columns)\n",
    "        .rename(columns=colnames)\n",
    "        .assign(\n",
    "            last=lambda x: x[\"last\"].str.lower(), first=lambda x: x[\"first\"].str.lower()\n",
    "        )\n",
    "    )\n",
    "    d_recid = d.loc[lambda x: x[\"DisplayText\"] == \"Risk of Recidivism\"]\n",
    "    d_viol = d.loc[lambda x: x[\"DisplayText\"] == \"Risk of Violence\"]\n",
    "\n",
    "    d_recid = d_recid.rename(columns={\"RawScore\": \"r_raw_score\"})\n",
    "    d_viol = d_viol.rename(columns={\"RawScore\": \"v_raw_score\"})\n",
    "\n",
    "    del d_recid[\"DisplayText\"]\n",
    "    del d_viol[\"DisplayText\"]\n",
    "\n",
    "    return d_recid, d_viol"
   ]
  },
  {
   "cell_type": "code",
   "execution_count": 7,
   "metadata": {},
   "outputs": [],
   "source": [
    "recid_raw, viol_raw = read_compas_raw(\n",
    "    \"https://raw.githubusercontent.com/propublica/compas-analysis/master/compas-scores-raw.csv\"\n",
    ")"
   ]
  },
  {
   "cell_type": "code",
   "execution_count": 8,
   "metadata": {},
   "outputs": [],
   "source": [
    "complete_scores = pd.merge(\n",
    "    compas_scores, recid_raw, on=[\"first\", \"last\", \"compas_screening_date\"], how=\"left\"\n",
    ")\n",
    "complete_scores = pd.merge(\n",
    "    complete_scores, viol_raw, on=[\"first\", \"last\", \"compas_screening_date\"], how=\"left\"\n",
    ")"
   ]
  },
  {
   "cell_type": "code",
   "execution_count": 9,
   "metadata": {},
   "outputs": [
    {
     "data": {
      "text/html": [
       "<div>\n",
       "<style scoped>\n",
       "    .dataframe tbody tr th:only-of-type {\n",
       "        vertical-align: middle;\n",
       "    }\n",
       "\n",
       "    .dataframe tbody tr th {\n",
       "        vertical-align: top;\n",
       "    }\n",
       "\n",
       "    .dataframe thead th {\n",
       "        text-align: right;\n",
       "    }\n",
       "</style>\n",
       "<table border=\"1\" class=\"dataframe\">\n",
       "  <thead>\n",
       "    <tr style=\"text-align: right;\">\n",
       "      <th></th>\n",
       "      <th>first</th>\n",
       "      <th>last</th>\n",
       "      <th>compas_screening_date</th>\n",
       "      <th>decile_score</th>\n",
       "      <th>score_text</th>\n",
       "      <th>is_recid</th>\n",
       "      <th>v_decile_score</th>\n",
       "      <th>v_score_text</th>\n",
       "      <th>is_violent_recid</th>\n",
       "      <th>r_raw_score</th>\n",
       "      <th>v_raw_score</th>\n",
       "    </tr>\n",
       "  </thead>\n",
       "  <tbody>\n",
       "    <tr>\n",
       "      <th>0</th>\n",
       "      <td>miguel</td>\n",
       "      <td>hernandez</td>\n",
       "      <td>2013-08-14</td>\n",
       "      <td>1.0</td>\n",
       "      <td>1.0</td>\n",
       "      <td>0.0</td>\n",
       "      <td>1.0</td>\n",
       "      <td>1.0</td>\n",
       "      <td>0.0</td>\n",
       "      <td>-2.78</td>\n",
       "      <td>-4.31</td>\n",
       "    </tr>\n",
       "    <tr>\n",
       "      <th>1</th>\n",
       "      <td>kevon</td>\n",
       "      <td>dixon</td>\n",
       "      <td>2013-01-27</td>\n",
       "      <td>3.0</td>\n",
       "      <td>1.0</td>\n",
       "      <td>1.0</td>\n",
       "      <td>1.0</td>\n",
       "      <td>1.0</td>\n",
       "      <td>1.0</td>\n",
       "      <td>-0.76</td>\n",
       "      <td>-3.07</td>\n",
       "    </tr>\n",
       "    <tr>\n",
       "      <th>2</th>\n",
       "      <td>ed</td>\n",
       "      <td>philo</td>\n",
       "      <td>2013-04-14</td>\n",
       "      <td>4.0</td>\n",
       "      <td>1.0</td>\n",
       "      <td>1.0</td>\n",
       "      <td>NaN</td>\n",
       "      <td>NaN</td>\n",
       "      <td>NaN</td>\n",
       "      <td>-0.66</td>\n",
       "      <td>-2.26</td>\n",
       "    </tr>\n",
       "    <tr>\n",
       "      <th>3</th>\n",
       "      <td>marsha</td>\n",
       "      <td>miles</td>\n",
       "      <td>2013-11-30</td>\n",
       "      <td>1.0</td>\n",
       "      <td>1.0</td>\n",
       "      <td>0.0</td>\n",
       "      <td>1.0</td>\n",
       "      <td>1.0</td>\n",
       "      <td>0.0</td>\n",
       "      <td>-1.93</td>\n",
       "      <td>-3.30</td>\n",
       "    </tr>\n",
       "    <tr>\n",
       "      <th>4</th>\n",
       "      <td>edward</td>\n",
       "      <td>riddle</td>\n",
       "      <td>2014-02-19</td>\n",
       "      <td>6.0</td>\n",
       "      <td>2.0</td>\n",
       "      <td>1.0</td>\n",
       "      <td>NaN</td>\n",
       "      <td>NaN</td>\n",
       "      <td>NaN</td>\n",
       "      <td>-0.16</td>\n",
       "      <td>-2.89</td>\n",
       "    </tr>\n",
       "  </tbody>\n",
       "</table>\n",
       "</div>"
      ],
      "text/plain": [
       "    first       last compas_screening_date  decile_score  score_text  \\\n",
       "0  miguel  hernandez            2013-08-14           1.0         1.0   \n",
       "1   kevon      dixon            2013-01-27           3.0         1.0   \n",
       "2      ed      philo            2013-04-14           4.0         1.0   \n",
       "3  marsha      miles            2013-11-30           1.0         1.0   \n",
       "4  edward     riddle            2014-02-19           6.0         2.0   \n",
       "\n",
       "   is_recid  v_decile_score  v_score_text  is_violent_recid  r_raw_score  \\\n",
       "0       0.0             1.0           1.0               0.0        -2.78   \n",
       "1       1.0             1.0           1.0               1.0        -0.76   \n",
       "2       1.0             NaN           NaN               NaN        -0.66   \n",
       "3       0.0             1.0           1.0               0.0        -1.93   \n",
       "4       1.0             NaN           NaN               NaN        -0.16   \n",
       "\n",
       "   v_raw_score  \n",
       "0        -4.31  \n",
       "1        -3.07  \n",
       "2        -2.26  \n",
       "3        -3.30  \n",
       "4        -2.89  "
      ]
     },
     "execution_count": 9,
     "metadata": {},
     "output_type": "execute_result"
    }
   ],
   "source": [
    "complete_scores.head()"
   ]
  },
  {
   "cell_type": "markdown",
   "metadata": {},
   "source": [
    "#### Some final checks"
   ]
  },
  {
   "cell_type": "code",
   "execution_count": 10,
   "metadata": {},
   "outputs": [
    {
     "name": "stdout",
     "output_type": "stream",
     "text": [
      "Has Recid Outcome:\t 6209\n",
      "Has Violent Recid:\t 3998\n"
     ]
    }
   ],
   "source": [
    "complete_scores = complete_scores.dropna(subset=[\"r_raw_score\", \"v_raw_score\"])\n",
    "\n",
    "print(\"Has Recid Outcome:\\t\", complete_scores[\"is_recid\"].notnull().sum())\n",
    "print(\"Has Violent Recid:\\t\", complete_scores[\"is_violent_recid\"].notnull().sum())"
   ]
  },
  {
   "cell_type": "markdown",
   "metadata": {},
   "source": [
    "### Explore Distributions of Scores\n",
    "Below we'll take a look at the distributions of each score to get a better understanding of what the data looks like that's coming out of the model. We examine the general recidivism cases below, the violent recidivism scores are not pictured.\n",
    "\n",
    "#### Raw Score Distributions"
   ]
  },
  {
   "cell_type": "code",
   "execution_count": 11,
   "metadata": {},
   "outputs": [
    {
     "data": {
      "image/png": "[encoded data removed]",
      "text/plain": [
       "<Figure size 432x288 with 1 Axes>"
      ]
     },
     "metadata": {
      "needs_background": "light"
     },
     "output_type": "display_data"
    }
   ],
   "source": [
    "def bin_plot(df, values_column, binary_by_column, n_bins=25, bins=None):\n",
    "    d_true = df.loc[lambda x: x[binary_by_column] == True][values_column]\n",
    "    d_false = df.loc[lambda x: x[binary_by_column] == False][values_column]\n",
    "\n",
    "    d_min, d_max = df[values_column].min(), df[values_column].max()\n",
    "\n",
    "    if not bins:\n",
    "        bins = np.arange(d_min, d_max, (d_max + 1 - d_min) / n_bins)\n",
    "\n",
    "    fig, ax = plt.subplots()\n",
    "    sns.distplot(d_false, ax=ax, bins=bins, kde=False, norm_hist=True, color=\"coral\")\n",
    "    sns.distplot(d_true, ax=ax, bins=bins, kde=False, norm_hist=True, color=\"blue\")\n",
    "    ax.set_title(\"%s by %s\" % (values_column, binary_by_column))\n",
    "\n",
    "\n",
    "bin_plot(complete_scores, \"r_raw_score\", \"is_recid\")"
   ]
  },
  {
   "cell_type": "markdown",
   "metadata": {},
   "source": [
    "Raw scores look to be normally distributed and also indicate the model works -- there seems to be a significant shift in raw scores in individual who actually recidivated.\n",
    "\n",
    "#### Decile Score Distributions"
   ]
  },
  {
   "cell_type": "code",
   "execution_count": 12,
   "metadata": {},
   "outputs": [
    {
     "data": {
      "image/png": "[encoded data removed]",
      "text/plain": [
       "<Figure size 432x288 with 1 Axes>"
      ]
     },
     "metadata": {
      "needs_background": "light"
     },
     "output_type": "display_data"
    }
   ],
   "source": [
    "bin_plot(complete_scores, \"decile_score\", \"is_recid\", n_bins=10)"
   ]
  },
  {
   "cell_type": "markdown",
   "metadata": {},
   "source": [
    "Decile scores are uniform among individuals who did recidivate and right skew among those that did not.\n",
    "\n",
    "#### Qualitative Scores"
   ]
  },
  {
   "cell_type": "code",
   "execution_count": 13,
   "metadata": {},
   "outputs": [
    {
     "data": {
      "image/png": "[encoded data removed]",
      "text/plain": [
       "<Figure size 432x288 with 1 Axes>"
      ]
     },
     "metadata": {
      "needs_background": "light"
     },
     "output_type": "display_data"
    }
   ],
   "source": [
    "bin_plot(complete_scores, \"score_text\", \"is_recid\", bins=3)"
   ]
  },
  {
   "cell_type": "markdown",
   "metadata": {
    "collapsed": true
   },
   "source": [
    "Qualitative scores a mapped onto a 1, 2, 3 (low, medium, high) scale. We see a similar pattern to the decile scores since they're just a collapsed version.\n",
    "\n",
    "## 2. Calculate AUC ROC Data for each Outcome and Transformation\n",
    "Now that the data is merged, we'll calculate the AUC ROC value for each transformation. "
   ]
  },
  {
   "cell_type": "code",
   "execution_count": 14,
   "metadata": {},
   "outputs": [],
   "source": [
    "def calculate_roc(outcome, score, transformation_name, outcome_name):\n",
    "    results = complete_scores[complete_scores[outcome].notnull()]\n",
    "    auc = roc_auc_score(results[outcome], results[score])\n",
    "    results = {\n",
    "        \"transformation\": transformation_name,\n",
    "        \"outcome\": outcome_name,\n",
    "        \"auc\": auc,\n",
    "    }\n",
    "    return results"
   ]
  },
  {
   "cell_type": "code",
   "execution_count": 15,
   "metadata": {},
   "outputs": [],
   "source": [
    "roc_data = [\n",
    "    calculate_roc(\"is_recid\", \"r_raw_score\", \"Raw\", \"General Recidivism\"),\n",
    "    calculate_roc(\"is_violent_recid\", \"v_raw_score\", \"Raw\", \"Violent Recidivism\"),\n",
    "    calculate_roc(\"is_recid\", \"decile_score\", \"Decile\", \"General Recidivism\"),\n",
    "    calculate_roc(\"is_violent_recid\", \"v_decile_score\", \"Decile\", \"Violent Recidivism\"),\n",
    "    calculate_roc(\"is_recid\", \"score_text\", \"Qualitative\", \"General Recidivism\"),\n",
    "    calculate_roc(\n",
    "        \"is_violent_recid\", \"v_score_text\", \"Qualitative\", \"Violent Recidivism\"\n",
    "    ),\n",
    "]"
   ]
  },
  {
   "cell_type": "code",
   "execution_count": 16,
   "metadata": {},
   "outputs": [
    {
     "data": {
      "text/html": [
       "<div>\n",
       "<style scoped>\n",
       "    .dataframe tbody tr th:only-of-type {\n",
       "        vertical-align: middle;\n",
       "    }\n",
       "\n",
       "    .dataframe tbody tr th {\n",
       "        vertical-align: top;\n",
       "    }\n",
       "\n",
       "    .dataframe thead th {\n",
       "        text-align: right;\n",
       "    }\n",
       "</style>\n",
       "<table border=\"1\" class=\"dataframe\">\n",
       "  <thead>\n",
       "    <tr style=\"text-align: right;\">\n",
       "      <th></th>\n",
       "      <th>outcome</th>\n",
       "      <th>transformation</th>\n",
       "      <th>auc</th>\n",
       "    </tr>\n",
       "  </thead>\n",
       "  <tbody>\n",
       "    <tr>\n",
       "      <th>0</th>\n",
       "      <td>General Recidivism</td>\n",
       "      <td>Raw</td>\n",
       "      <td>0.725</td>\n",
       "    </tr>\n",
       "    <tr>\n",
       "      <th>1</th>\n",
       "      <td>Violent Recidivism</td>\n",
       "      <td>Raw</td>\n",
       "      <td>0.724</td>\n",
       "    </tr>\n",
       "    <tr>\n",
       "      <th>2</th>\n",
       "      <td>General Recidivism</td>\n",
       "      <td>Decile</td>\n",
       "      <td>0.714</td>\n",
       "    </tr>\n",
       "    <tr>\n",
       "      <th>3</th>\n",
       "      <td>Violent Recidivism</td>\n",
       "      <td>Decile</td>\n",
       "      <td>0.716</td>\n",
       "    </tr>\n",
       "    <tr>\n",
       "      <th>4</th>\n",
       "      <td>General Recidivism</td>\n",
       "      <td>Qualitative</td>\n",
       "      <td>0.678</td>\n",
       "    </tr>\n",
       "    <tr>\n",
       "      <th>5</th>\n",
       "      <td>Violent Recidivism</td>\n",
       "      <td>Qualitative</td>\n",
       "      <td>0.665</td>\n",
       "    </tr>\n",
       "  </tbody>\n",
       "</table>\n",
       "</div>"
      ],
      "text/plain": [
       "              outcome transformation    auc\n",
       "0  General Recidivism            Raw  0.725\n",
       "1  Violent Recidivism            Raw  0.724\n",
       "2  General Recidivism         Decile  0.714\n",
       "3  Violent Recidivism         Decile  0.716\n",
       "4  General Recidivism    Qualitative  0.678\n",
       "5  Violent Recidivism    Qualitative  0.665"
      ]
     },
     "execution_count": 16,
     "metadata": {},
     "output_type": "execute_result"
    }
   ],
   "source": [
    "roc_df = pd.DataFrame(roc_data)\n",
    "roc_df[[\"outcome\", \"transformation\", \"auc\"]].round(3)"
   ]
  },
  {
   "cell_type": "code",
   "execution_count": 17,
   "metadata": {},
   "outputs": [
    {
     "data": {
      "image/png": "[encoded data removed]",
      "text/plain": [
       "<Figure size 432x432 with 1 Axes>"
      ]
     },
     "metadata": {
      "needs_background": "light"
     },
     "output_type": "display_data"
    }
   ],
   "source": [
    "fig, ax = plt.subplots(figsize=(6, 6))\n",
    "sns.barplot(y=\"auc\", x=\"outcome\", data=roc_df, hue=\"transformation\", ax=ax)\n",
    "ax.set_ylim((0.5, 1))\n",
    "ax.set_ylabel(\"AUC ROC\");"
   ]
  },
  {
   "cell_type": "markdown",
   "metadata": {},
   "source": [
    "### Accuracy of COMPAS scores by transformation\n",
    "For the COMPAS tool, the accuracy of the model decreases as the number of bins gets smaller. The raw scores have the highest ROC values, but not much higher than the decile scores. In Northpointe's rebuttal, they achieved AUC scores on the ProPublica sample of 0.69 for general recidivism and 0.68 for violent in evaluating the decile scores. ([source, p. 3](http://go.volarisgroup.com/rs/430-MBX-989/images/ProPublica_Commentary_Final_070616.pdf))"
   ]
  },
  {
   "cell_type": "markdown",
   "metadata": {},
   "source": [
    "## 3. What's the general case?\n",
    "What happens to ROC scores as deciles are composed out of model scores? To find out, we can generate some simulated data. This simulated data is not from a particular model, but is meant to represent a hypothetical model output of scores for positive and negative cases. For simplicity, we'll choose a beta distribution for the model output scores and assume our model has some predictive power, where the scores from the model predicting positive classes is generally higher than those where the model predicts a negative outcome.\n",
    "\n",
    "In addition, any cuts of data will be determined from the total distribution of scores. Comparitively, we don't know the original distribution of COMPAS scores (from when the assessment was developed) to map to the original decile scores -- we only use those available in the data.\n",
    "\n",
    "We use a `Beta(2,2)` distribution to represent the scores of negative cases, and a `Beta(3.5, 2)` distribution for positive cases. There's no rationale for the parameters in these distributions except for applying them gives us hypothetical AUC scores in the same range as the COMPAS model."
   ]
  },
  {
   "cell_type": "markdown",
   "metadata": {},
   "source": [
    "### What does this hypothetical model output look like?\n",
    "Below is a single simulated example from a hypothetical model -- the blue indicating the distribution of model scores for positvie cases and coral for negative cases. "
   ]
  },
  {
   "cell_type": "code",
   "execution_count": 18,
   "metadata": {},
   "outputs": [
    {
     "data": {
      "image/png": "[encoded data removed]",
      "text/plain": [
       "<Figure size 432x288 with 1 Axes>"
      ]
     },
     "metadata": {
      "needs_background": "light"
     },
     "output_type": "display_data"
    }
   ],
   "source": [
    "SAMPLE_SIZE = 10000\n",
    "\n",
    "neg = scipy.random.beta(2, 2, size=SAMPLE_SIZE)\n",
    "pos = scipy.random.beta(3.5, 2, size=SAMPLE_SIZE)\n",
    "fig, ax = plt.subplots()\n",
    "bins = np.arange(0, 1, 0.02)\n",
    "sns.distplot(neg, ax=ax, bins=bins, kde=False, norm_hist=True, color=\"coral\")\n",
    "sns.distplot(pos, ax=ax, bins=bins, kde=False, norm_hist=True, color=\"blue\")\n",
    "ax.set_title(\"Simulated Example\");"
   ]
  },
  {
   "cell_type": "markdown",
   "metadata": {},
   "source": [
    "### Run simulations\n",
    "The simulation below runs 500 simulations with 10000 samples for each simulation, resulting in 10000 simulated 'positive' cases and the same for 'negative' cases. We will apply quantile cuts ranging from 2 to 15 quantiles on the combined positive and negative predictions, as well as the case where no cuts are applied. From each simulated dataset the ROC is calculated."
   ]
  },
  {
   "cell_type": "code",
   "execution_count": 19,
   "metadata": {},
   "outputs": [],
   "source": [
    "def run_simulations(alpha_pos, alpha_neg, beta, qcuts, sample_size, n_sims):\n",
    "    sim_data = []\n",
    "    cuts = list(qcuts) + [\"None\"]\n",
    "    for qcut in cuts:\n",
    "        for sim in range(0, n_sims):\n",
    "            pos = scipy.random.beta(alpha_pos, beta, size=sample_size)\n",
    "            neg = scipy.random.beta(alpha_neg, beta, size=sample_size)\n",
    "            roc_scores = np.hstack((neg, pos))\n",
    "            if qcut != \"None\":\n",
    "                roc_scores = pd.qcut(roc_scores, q=qcut, labels=False)\n",
    "            roc_true = np.array([0] * len(neg) + [1] * len(pos))\n",
    "            auc = roc_auc_score(roc_true, roc_scores)\n",
    "            data = {\"sim\": sim, \"AUC\": auc, \"qcut\": qcut}\n",
    "            sim_data.append(data)\n",
    "    return pd.DataFrame(sim_data)"
   ]
  },
  {
   "cell_type": "code",
   "execution_count": 20,
   "metadata": {},
   "outputs": [],
   "source": [
    "sim_df = run_simulations(\n",
    "    alpha_pos=3.5,\n",
    "    alpha_neg=2,\n",
    "    beta=2,\n",
    "    qcuts=range(2, 16),\n",
    "    sample_size=10000,\n",
    "    n_sims=500,\n",
    ")"
   ]
  },
  {
   "cell_type": "markdown",
   "metadata": {},
   "source": [
    "### Plot Data"
   ]
  },
  {
   "cell_type": "code",
   "execution_count": 21,
   "metadata": {},
   "outputs": [
    {
     "data": {
      "image/png": "[encoded data removed]",
      "text/plain": [
       "<Figure size 864x576 with 1 Axes>"
      ]
     },
     "metadata": {
      "needs_background": "light"
     },
     "output_type": "display_data"
    }
   ],
   "source": [
    "d = pd.DataFrame(sim_df)\n",
    "fig, ax = plt.subplots(figsize=(12, 8))\n",
    "sns.violinplot(data=d, x=\"qcut\", y=\"AUC\", ax=ax)\n",
    "ax.set_xlabel(\"Number of Bins\")\n",
    "ax.set_title(\"Simulated AUC Scores by Number of Bins\");"
   ]
  },
  {
   "cell_type": "code",
   "execution_count": 22,
   "metadata": {},
   "outputs": [
    {
     "data": {
      "text/html": [
       "<div>\n",
       "<style scoped>\n",
       "    .dataframe tbody tr th:only-of-type {\n",
       "        vertical-align: middle;\n",
       "    }\n",
       "\n",
       "    .dataframe tbody tr th {\n",
       "        vertical-align: top;\n",
       "    }\n",
       "\n",
       "    .dataframe thead th {\n",
       "        text-align: right;\n",
       "    }\n",
       "</style>\n",
       "<table border=\"1\" class=\"dataframe\">\n",
       "  <thead>\n",
       "    <tr style=\"text-align: right;\">\n",
       "      <th>qcut</th>\n",
       "      <th>2</th>\n",
       "      <th>3</th>\n",
       "      <th>4</th>\n",
       "      <th>5</th>\n",
       "      <th>6</th>\n",
       "      <th>7</th>\n",
       "      <th>8</th>\n",
       "      <th>9</th>\n",
       "      <th>10</th>\n",
       "      <th>11</th>\n",
       "      <th>12</th>\n",
       "      <th>13</th>\n",
       "      <th>14</th>\n",
       "      <th>15</th>\n",
       "      <th>None</th>\n",
       "    </tr>\n",
       "  </thead>\n",
       "  <tbody>\n",
       "    <tr>\n",
       "      <th>median</th>\n",
       "      <td>0.625</td>\n",
       "      <td>0.652</td>\n",
       "      <td>0.662</td>\n",
       "      <td>0.667</td>\n",
       "      <td>0.669</td>\n",
       "      <td>0.671</td>\n",
       "      <td>0.672</td>\n",
       "      <td>0.673</td>\n",
       "      <td>0.673</td>\n",
       "      <td>0.673</td>\n",
       "      <td>0.674</td>\n",
       "      <td>0.674</td>\n",
       "      <td>0.674</td>\n",
       "      <td>0.674</td>\n",
       "      <td>0.676</td>\n",
       "    </tr>\n",
       "    <tr>\n",
       "      <th>mean</th>\n",
       "      <td>0.625</td>\n",
       "      <td>0.652</td>\n",
       "      <td>0.662</td>\n",
       "      <td>0.667</td>\n",
       "      <td>0.669</td>\n",
       "      <td>0.671</td>\n",
       "      <td>0.672</td>\n",
       "      <td>0.673</td>\n",
       "      <td>0.673</td>\n",
       "      <td>0.674</td>\n",
       "      <td>0.674</td>\n",
       "      <td>0.674</td>\n",
       "      <td>0.674</td>\n",
       "      <td>0.674</td>\n",
       "      <td>0.676</td>\n",
       "    </tr>\n",
       "    <tr>\n",
       "      <th>std</th>\n",
       "      <td>0.003</td>\n",
       "      <td>0.004</td>\n",
       "      <td>0.004</td>\n",
       "      <td>0.004</td>\n",
       "      <td>0.004</td>\n",
       "      <td>0.004</td>\n",
       "      <td>0.004</td>\n",
       "      <td>0.004</td>\n",
       "      <td>0.004</td>\n",
       "      <td>0.004</td>\n",
       "      <td>0.004</td>\n",
       "      <td>0.004</td>\n",
       "      <td>0.004</td>\n",
       "      <td>0.004</td>\n",
       "      <td>0.004</td>\n",
       "    </tr>\n",
       "  </tbody>\n",
       "</table>\n",
       "</div>"
      ],
      "text/plain": [
       "qcut        2      3      4      5      6      7      8      9     10     11  \\\n",
       "median  0.625  0.652  0.662  0.667  0.669  0.671  0.672  0.673  0.673  0.673   \n",
       "mean    0.625  0.652  0.662  0.667  0.669  0.671  0.672  0.673  0.673  0.674   \n",
       "std     0.003  0.004  0.004  0.004  0.004  0.004  0.004  0.004  0.004  0.004   \n",
       "\n",
       "qcut       12     13     14     15   None  \n",
       "median  0.674  0.674  0.674  0.674  0.676  \n",
       "mean    0.674  0.674  0.674  0.674  0.676  \n",
       "std     0.004  0.004  0.004  0.004  0.004  "
      ]
     },
     "execution_count": 22,
     "metadata": {},
     "output_type": "execute_result"
    }
   ],
   "source": [
    "pd.DataFrame(d.groupby(\"qcut\")[\"AUC\"].agg([\"median\", \"mean\", \"std\"]).round(3)).T"
   ]
  },
  {
   "cell_type": "markdown",
   "metadata": {
    "collapsed": true
   },
   "source": [
    "### How the binning scheme impacts ROC scores\n",
    "Binning schemes can generate ROC scores lower than the same model with no binning. In the hypothetical example above, the model results with no binning scheme achieved a median AUC of ~0.676, while the models with binary or ternary schemes achieved median AUC values of ~0.626 and ~0.652 respectively. This hypothetical example shows that binning schemes can have a negative impact on AUC values in comparison to the untransformed data. "
   ]
  },
  {
   "cell_type": "markdown",
   "metadata": {},
   "source": [
    "## Summary\n",
    "The findings above show that when reporting model accuracy with AUC, a reader should be wary of any transformation scheme applied to the model output since that scheme can change the AUC value. \n",
    "\n",
    "We explored the impact of transformation schemes through the COMPAS dataset provided by ProPublica, demonstrating that when the final output of the model is qualitative scores, incomparison to decile scores or raw scores, the model has lower AUC. We then analyzed a hypothetical example to determine what the general case is when differing binning schemes are applied, inferring that binning schemes with a small number of bins in our hypothetical example can result in lower AUC scores.\n",
    "\n",
    "In cases where the output of a model presented to a decision maker is transformed model results, there may be a discrepancy in the accuracy of those presented outputs in comparison to reported accuracy from evaluations. It is important to analyze risk assessments and other models in practice in context of what information is presented to decision makers."
   ]
  },
  {
   "cell_type": "markdown",
   "metadata": {
    "collapsed": true
   },
   "source": [
    "## Helpful Resources\n",
    "- Tom Augspurger's [post on method chaining](https://tomaugspurger.github.io/method-chaining.html) was instrumental in refactoring the data reading steps"
   ]
  },
  {
   "cell_type": "code",
   "execution_count": null,
   "metadata": {},
   "outputs": [],
   "source": []
  }
 ],
 "metadata": {
  "anaconda-cloud": {},
  "kernelspec": {
   "display_name": "Python 3",
   "language": "python",
   "name": "python3"
  },
  "language_info": {
   "codemirror_mode": {
    "name": "ipython",
    "version": 3
   },
   "file_extension": ".py",
   "mimetype": "text/x-python",
   "name": "python",
   "nbconvert_exporter": "python",
   "pygments_lexer": "ipython3",
   "version": "3.7.3"
  }
 },
 "nbformat": 4,
 "nbformat_minor": 1
}
