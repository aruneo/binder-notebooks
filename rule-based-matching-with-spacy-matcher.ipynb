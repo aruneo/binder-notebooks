{
 "cells": [
  {
   "cell_type": "markdown",
   "metadata": {},
   "source": [
    "# Making the Most of spaCy's Rule-Based Matcher\n",
    "\n",
    "This is an abbreviated introduction from my blog post."
   ]
  },
  {
   "cell_type": "markdown",
   "metadata": {},
   "source": [
    "## Rule-based matching with `Matcher`\n",
    "**✅👍 Why rule-based matching is awesome 👍✅**\n",
    "- No training data required (good for smaller datasets)\n",
    "- Match results give you flexibility returning relevant sections from your document.\n",
    "    - i.e. document classification works on whole documents. What if you wanted to find a sentence that was relevant to your business case? The matcher allows you to work with specific sentences and spans after matching.\n",
    "- Fast!\n",
    "- Easy to integrate into an NLP pipeline\n",
    "- Composable and cheap\n",
    "  - e.g. you could write a bunch of quick, simple rules and use boolean logic on the matches to interesting match combinations.\n",
    "  - e.g. you can write a really general rule to find relevant documents, then some mutually exclusive sub-rules that operate only on documents that match a general rule.\n",
    "- Usually explainable to non-technical stakeholders\n",
    "\n",
    "    \n",
    "**⚠️ Why rule-based matching is challenging ⚠️**\n",
    "- Good rules require lots of iteration and experimentation\n",
    "- Writing rules requires some linguistics knowledge about parts-of-speech and dependency parsing\n",
    "- Token matching operators are greedy\n",
    "  - Requires frequent sanity checking, testing, and iterating to be sure the matcher is returning what you think it is\n",
    "- Requires complementary tools for maximum benefit\n",
    "  - You'll probably want to use an `on_match` callback to work with the full document or a span after a match. Often times the match itself is just the start.\n",
    "  - We train a text classification model on our matches to help us iterate. I found parameter tuning difficult and training very fragile due to the rare outcome rate for matches.\n",
    "\n",
    "\n",
    "## Our Workflow\n",
    "![Pattern Match Workflow](https://i.postimg.cc/Vv18XQ7z/Pattern-Match-4.png)\n",
    "\n",
    "## Our Use Case\n",
    "Let's say we work at Amazon, and our boss wants us to explore a potential a new feature for product pages: a list of reasons why people purchased that item. If we assume people write things like `I bought this because my old whisk broke` in their reviews, we could use the text from product reviews to initially build this feature.\n",
    "\n",
    "We'll use a dataset of [Home and Kitchen product reviews](http://jmcauley.ucsd.edu/data/amazon/) as our initial data."
   ]
  },
  {
   "cell_type": "code",
   "execution_count": 2,
   "metadata": {},
   "outputs": [],
   "source": [
    "import gzip\n",
    "import json\n",
    "import random\n",
    "from collections import Counter\n",
    "from dataclasses import dataclass\n",
    "from pprint import pprint\n",
    "from statistics import stdev\n",
    "from textwrap import shorten\n",
    "from typing import List, Dict\n",
    "\n",
    "import numpy as np\n",
    "import spacy\n",
    "from imblearn.under_sampling import RandomUnderSampler\n",
    "from nltk.corpus import wordnet\n",
    "from sklearn.model_selection import train_test_split\n",
    "from spacy.lang.en import English as EnglishPipeline\n",
    "from spacy.matcher import Matcher\n",
    "from spacy.pipeline.pipes import TextCategorizer\n",
    "from spacy.tokenizer import Tokenizer\n",
    "from spacy.tokens import Doc, Span\n",
    "from spacy.util import compounding, minibatch"
   ]
  },
  {
   "cell_type": "markdown",
   "metadata": {},
   "source": [
    "## Download And Load Data"
   ]
  },
  {
   "cell_type": "code",
   "execution_count": 3,
   "metadata": {},
   "outputs": [
    {
     "name": "stdout",
     "output_type": "stream",
     "text": [
      "--2019-07-18 07:23:04--  http://snap.stanford.edu/data/amazon/productGraph/categoryFiles/reviews_Home_and_Kitchen_5.json.gz\n",
      "Resolving snap.stanford.edu (snap.stanford.edu)... 171.64.75.80\n",
      "Connecting to snap.stanford.edu (snap.stanford.edu)|171.64.75.80|:80... connected.\n",
      "HTTP request sent, awaiting response... 304 Not Modified\n",
      "File ‘reviews_Home_and_Kitchen_5.json.gz’ not modified on server. Omitting download.\n",
      "\n"
     ]
    }
   ],
   "source": [
    "!wget -N http://snap.stanford.edu/data/amazon/productGraph/categoryFiles/reviews_Home_and_Kitchen_5.json.gz"
   ]
  },
  {
   "cell_type": "code",
   "execution_count": 4,
   "metadata": {},
   "outputs": [],
   "source": [
    "with gzip.open(\"./reviews_Home_and_Kitchen_5.json.gz\", \"rb\") as f:\n",
    "    data = [json.loads(line) for line in f]"
   ]
  },
  {
   "cell_type": "code",
   "execution_count": 5,
   "metadata": {},
   "outputs": [
    {
     "name": "stdout",
     "output_type": "stream",
     "text": [
      "Sample:\n",
      "{'asin': '0615391206',\n",
      " 'helpful': [0, 0],\n",
      " 'overall': 5.0,\n",
      " 'reviewText': 'My daughter wanted this book and the price on Amazon was the '\n",
      "               'best.  She has already tried one recipe a day after receiving '\n",
      "               'the book.  She seems happy with it.',\n",
      " 'reviewTime': '10 19, 2013',\n",
      " 'reviewerID': 'APYOBQE6M18AA',\n",
      " 'reviewerName': 'Martin Schwartz',\n",
      " 'summary': 'Best Price',\n",
      " 'unixReviewTime': 1382140800}\n",
      "\n",
      "Review Snippets:\n",
      "Text 0: My daughter wanted this book and the price on Amazon was the best. She has already tried one recipe a day after receiving the book. She seems happy with it.\n",
      "Text 1: I bought this zoku quick pop for my daughterr with her zoku quick maker. She loves it and have fun to make her own ice cream.\n",
      "Text 2: There is no shortage of pop recipes available for free on the web, but I purchased the \"Zoku Quick Pops\" book, because Zoku has some good recipes for fruit pops on its blog. I was hoping there [...]\n",
      "Text 3: This book is a must have if you get a Zoku (which I also highly recommend). There is a large variety of recipes from simple, to fancy. The flavor combos are creative, and it gives you ideas for [...]\n",
      "Text 4: This cookbook is great. I have really enjoyed reviewing all of the recipes. Sure - some are more difficult than others, but there is a nice variety in this book. For me it was totally worth it [...]\n",
      "Text 5: If you have a Zoku Quick Pop maker (or two....I have the original one-slot and then I bought the double-slot here at Amazon), I recommend you get this creative little book, which will inspire you.\n",
      "Text 6: This book is so beautifully illustrated and easy to follow. It helps you to understand the Zoku better. It might have been even better if they made the recipe units for different sized molds. [...]\n",
      "Text 7: I bought this when I bought the pop maker. I think the recipes are fine, but there really isn't much in the book I wouldn't have figured out myself.A couple of good creamy recipes that are now [...]\n",
      "Text 8: The Zoku accessories are pricey, but the recipes have the exact amount you need to make the pops. I have made it through 15 varieties so far, and I like them all.\n",
      "Text 9: High quality book. Clear and helpful information, and then some superb recipe suggestions clearly outlined. I can highly recommend this product.\n"
     ]
    }
   ],
   "source": [
    "print(\"Sample:\")\n",
    "pprint(data[0])\n",
    "print()\n",
    "print(\"Review Snippets:\")\n",
    "for i, d in enumerate(data[:10]):\n",
    "    text_snip = shorten(d[\"reviewText\"], 200)\n",
    "    print(f\"Text {i}: {text_snip}\")"
   ]
  },
  {
   "cell_type": "markdown",
   "metadata": {},
   "source": [
    "## Creating the first match rule\n",
    "A simple match would be someone saying `\"I bought this because _____\"`. Let's find some synonyms for `bought` to be sure we're capturing some variation.\n",
    "\n",
    "## Find synonyms for \"bought\" to generate first rule\n",
    "\n",
    "\n",
    "Here's our process with wordnet:\n",
    "1. Identify all the possible synsets we could use\n",
    "2. Choose the one with the closest definition to our word\n",
    "3. Print all the lemmas from the hyponyms and hypernyms of that word.\n",
    "4. See if any of these new lemmas would work as synonyms for your matching rule."
   ]
  },
  {
   "cell_type": "code",
   "execution_count": 6,
   "metadata": {},
   "outputs": [
    {
     "name": "stdout",
     "output_type": "stream",
     "text": [
      "Synset('buy.v.01'):\tobtain by purchase; acquire by means of a financial transaction\n",
      "buy, purchase\n",
      "[Synset('buy_back.v.01'),\n",
      " Synset('get.v.22'),\n",
      " Synset('impulse-buy.v.01'),\n",
      " Synset('pick_up.v.08'),\n",
      " Synset('subscribe.v.05'),\n",
      " Synset('take.v.33'),\n",
      " Synset('take_out.v.07'),\n",
      " Synset('take_over.v.05')]\n",
      "[Synset('get.v.01')]\n",
      "\n",
      "\n",
      "Synset('bribe.v.01'):\tmake illegal payments to in exchange for favors or influence\n",
      "bribe, corrupt, buy, grease_one's_palms\n",
      "[Synset('buy_off.v.01'), Synset('sop.v.01')]\n",
      "[Synset('pay.v.01')]\n",
      "\n",
      "\n",
      "Synset('buy.v.03'):\tbe worth or be capable of buying\n",
      "buy\n",
      "[]\n",
      "[Synset('be.v.01')]\n",
      "\n",
      "\n",
      "Synset('buy.v.04'):\tacquire by trade or sacrifice or exchange\n",
      "buy\n",
      "[]\n",
      "[Synset('get.v.01')]\n",
      "\n",
      "\n",
      "Synset('buy.v.05'):\taccept as true\n",
      "buy\n",
      "[]\n",
      "[Synset('believe.v.01')]\n",
      "\n",
      "\n"
     ]
    }
   ],
   "source": [
    "for synset in wordnet.synsets(\"buy\", pos=\"v\"):\n",
    "    print(synset, synset.definition(), sep=\":\\t\")\n",
    "    print(\", \".join(synset.lemma_names()))\n",
    "    pprint(synset.hyponyms())\n",
    "    pprint(synset.hypernyms())\n",
    "    print(\"\\n\")"
   ]
  },
  {
   "cell_type": "code",
   "execution_count": 7,
   "metadata": {},
   "outputs": [
    {
     "name": "stdout",
     "output_type": "stream",
     "text": [
      "Synset('buy.v.01')\n",
      "buy, purchase\n",
      "[['buy_back', 'repurchase'],\n",
      " ['get'],\n",
      " ['impulse-buy'],\n",
      " ['pick_up'],\n",
      " ['subscribe', 'subscribe_to', 'take'],\n",
      " ['take'],\n",
      " ['take_out', 'buy_food'],\n",
      " ['take_over', 'buy_out', 'buy_up']]\n",
      "[['get', 'acquire']]\n"
     ]
    }
   ],
   "source": [
    "reference_synset = wordnet.synset(\"buy.v.01\")\n",
    "print(reference_synset)\n",
    "print(\", \".join(reference_synset.lemma_names()))\n",
    "pprint([l.lemma_names() for l in reference_synset.hyponyms()])\n",
    "pprint([l.lemma_names() for l in reference_synset.hypernyms()])"
   ]
  },
  {
   "cell_type": "markdown",
   "metadata": {},
   "source": [
    "##  Cycle 1\n",
    "### Cycle 1: Define Initial Match Pattern\n",
    "We're going to create one match rule to match text where individuals provide their rationale for purchasing. This text should match the following:\n",
    "\n",
    "```\n",
    "I [bought/purchased/got] [0 to inf tokens] because\n",
    "```\n",
    "\n",
    "Which means it should match phrases like `I bought this because [...]`,  also references to the specific item, like `I got the BlendMAX 5000 because [...]`, and other combinations like `I purchased this wonderful whisk last week because [...]`.\n",
    "\n",
    "### Storing Matches\n",
    "We're going to use an [on_match callback](https://spacy.io/usage/rule-based-matching#on_match) to store the start and end token indices of the match as an [extension attribute](https://spacy.io/usage/processing-pipelines#custom-components-attributes) on the document."
   ]
  },
  {
   "cell_type": "code",
   "execution_count": 6,
   "metadata": {},
   "outputs": [],
   "source": [
    "nlp = spacy.load(\"en_core_web_md\", disable=[\"ner\"])\n",
    "matcher = Matcher(nlp.vocab)\n",
    "\n",
    "\n",
    "@dataclass\n",
    "class MatchRule:\n",
    "    name: str  # no spaces, needs to be callable as an attr\n",
    "    patterns: List "
   ]
  },
  {
   "cell_type": "code",
   "execution_count": 7,
   "metadata": {},
   "outputs": [],
   "source": [
    "patterns_1 = [\n",
    "    [\n",
    "        {\"ORTH\": \"I\"},\n",
    "        {\"LOWER\": {\"IN\": [\"bought\", \"purchased\", \"got\"]}},\n",
    "        {\"IS_ALPHA\": True, \"OP\": \"*\"},\n",
    "        {\"LOWER\": {\"IN\": [\"because\"]}},\n",
    "    ]\n",
    "]\n",
    "\n",
    "initial_rule = MatchRule(\"initial_rule\", patterns_1)"
   ]
  },
  {
   "cell_type": "code",
   "execution_count": 8,
   "metadata": {},
   "outputs": [],
   "source": [
    "def add_matches(matcher: Matcher, doc: Doc, i: int, matches: List):\n",
    "    match_id, start, end = matches[i]\n",
    "    string_id = nlp.vocab.strings[match_id]\n",
    "    mlist = doc._.get(string_id)\n",
    "    if (start, end) not in mlist:\n",
    "        mlist.append((start, end))\n",
    "        doc._.set(string_id, mlist)\n",
    "\n",
    "\n",
    "Doc.set_extension(initial_rule.name, default=[], force=True)\n",
    "matcher.add(initial_rule.name, add_matches, *initial_rule.patterns)"
   ]
  },
  {
   "cell_type": "markdown",
   "metadata": {},
   "source": [
    "### Cycle 1: Match a Subset of Reviews"
   ]
  },
  {
   "cell_type": "code",
   "execution_count": 9,
   "metadata": {},
   "outputs": [],
   "source": [
    "subset_length = 5000\n",
    "\n",
    "subset = [d[\"reviewText\"] for i, d in enumerate(data) if i < subset_length]\n",
    "parsed_subset = [doc for doc in nlp.pipe(subset)]"
   ]
  },
  {
   "cell_type": "code",
   "execution_count": 10,
   "metadata": {},
   "outputs": [],
   "source": [
    "for _ in matcher.pipe(parsed_subset):\n",
    "    pass  # leave it to the add_matches callback"
   ]
  },
  {
   "cell_type": "markdown",
   "metadata": {},
   "source": [
    "#### Statistics & Sanity Check"
   ]
  },
  {
   "cell_type": "code",
   "execution_count": 11,
   "metadata": {},
   "outputs": [
    {
     "name": "stdout",
     "output_type": "stream",
     "text": [
      "59 matches. 1.18% of data\n"
     ]
    }
   ],
   "source": [
    "total = sum(bool(d._.initial_rule) for d in parsed_subset)\n",
    "length = len(parsed_subset)\n",
    "print(f\"{total} matches. {(total/length)*100:.2f}% of data\")"
   ]
  },
  {
   "cell_type": "code",
   "execution_count": 12,
   "metadata": {},
   "outputs": [
    {
     "name": "stdout",
     "output_type": "stream",
     "text": [
      "I bought it because\n",
      "I bought it because\n",
      "I bought it because\n",
      "I bought this because\n",
      "I bought this ice cream maker last summer and ended up not using it much because\n",
      "I bought this because\n",
      "I bought this because\n",
      "I bought this ice cream maker for my roommate because\n",
      "I bought this heater because\n",
      "I bought it because\n",
      "I bought a timer to use with it because\n",
      "I got this because\n",
      "I bought this because\n",
      "I purchased one for my mother in law because\n",
      "I bought this because\n",
      "I bought this because\n",
      "I bought this vacuum cleaner because\n",
      "I bought this vacuum cleaner belt because\n",
      "I bought this quality peeler because\n",
      "I bought this because\n",
      "I got this because\n",
      "I bought this item because\n",
      "I bought this because\n",
      "I purchased this brush is because\n",
      "I bought this because\n",
      "I bought this one because\n",
      "I bought this because\n",
      "I bought this is because\n",
      "I bought this initially because\n",
      "I bought this opener for my son who has difficulty opening can because\n",
      "I bought this spinner to replace an older model that was years old because\n",
      "I purchased the Mini because\n",
      "I got this because\n",
      "I purchased this salad spinner because\n",
      "I bought this because\n",
      "I bought this multi grater because\n",
      "I bought this brush specifically because\n",
      "I bought this little vegetable scrub brush because\n",
      "I bought this because\n",
      "I got this for my wife because\n",
      "I bought it because\n",
      "I bought more because\n",
      "I bought this brush because\n",
      "I bought this particular strainer because\n",
      "I bought this because\n",
      "I bought his because\n",
      "I bought this because\n",
      "I bought this because\n",
      "I bought because\n",
      "I bought this set because\n",
      "I bought them because\n",
      "I purchased as a gift for my daughter because\n",
      "I bought this to replace an older bench knife with a wooden handle because\n",
      "I purchased this OXO Pastry tool because\n",
      "I bought this because\n",
      "I bought this whisk because\n",
      "I purchased this one because\n",
      "I bought this out of convenience because\n",
      "I bought it however because\n"
     ]
    }
   ],
   "source": [
    "for d in parsed_subset:\n",
    "    if bool(d._.initial_rule):\n",
    "        for match in d._.initial_rule:\n",
    "            print(d[match[0] : match[1]])"
   ]
  },
  {
   "cell_type": "markdown",
   "metadata": {},
   "source": [
    "### Cycle 1: Train Textcat Model\n",
    "Now we're going to train a model to predict documents that should match our rules. The idea here is that the model will pick up on other patterns of the text that our rules missed. Then, by treating the matched documents as actual labels, we will inspect the *False Negatives* from the model.\n",
    "\n",
    "The evaluation dataset is there as a sanity check to make sure that our model is training correctly. We're not using it to evaluate against specific metrics, so as long as loss goes down and the metrics go up, we're doing good. \n",
    "\n",
    "We're breaking a few machine learning rules here in service of our utilitarian model. We are going to make predictions back on the same data we used to train the model. However, this is not a model we're ever going to use in production, and we're using it simply as an exploratory tool. We are also only going to train for a few epochs. If we were more interested in high performance, we would fine-tune the model paramters and train for much longer. However, we really only need it to be directionally accurate.\n",
    "\n",
    "If you think this idea of \"labeling\" data by writing rules is interesting and want to use it to actually build a production model, you may be interested in [weak supervision](http://ai.stanford.edu/blog/weak-supervision/).\n",
    "\n",
    "This code pulls heavily from the [textcat example](https://github.com/explosion/spaCy/blob/develop/examples/training/train_textcat.py) and is modified to only classify a single category."
   ]
  },
  {
   "cell_type": "code",
   "execution_count": 13,
   "metadata": {},
   "outputs": [
    {
     "data": {
      "text/plain": [
       "1"
      ]
     },
     "execution_count": 13,
     "metadata": {},
     "output_type": "execute_result"
    }
   ],
   "source": [
    "label = \"BUYBECAUSE\"\n",
    "\n",
    "textcat = nlp.create_pipe(\n",
    "    \"textcat\", config={\"exclusive_classes\": False, \"architecture\": \"ensemble\"}\n",
    ")\n",
    "nlp.add_pipe(textcat, last=True)\n",
    "textcat.add_label(label)"
   ]
  },
  {
   "cell_type": "code",
   "execution_count": 14,
   "metadata": {},
   "outputs": [],
   "source": [
    "rus = RandomUnderSampler(random_state=0, sampling_strategy=0.33)\n",
    "X = parsed_subset\n",
    "y = [bool(d._.initial_rule) for d in parsed_subset]\n",
    "X_resampled, y_resampled = rus.fit_resample(np.array(parsed_subset).reshape(-1, 1), y)\n",
    "\n",
    "all_texts = X_resampled[:, 0].tolist()\n",
    "all_cats = [{label: outcome} for outcome in y_resampled]"
   ]
  },
  {
   "cell_type": "code",
   "execution_count": 15,
   "metadata": {},
   "outputs": [
    {
     "name": "stdout",
     "output_type": "stream",
     "text": [
      "Total: 237 (189 train, 48 eval)\n",
      "Outcome Rate: 0.249 (0.254 train, 0.229 eval)\n"
     ]
    }
   ],
   "source": [
    "data_splits = train_test_split(\n",
    "    all_texts, all_cats, train_size=0.8, test_size=0.2, random_state=666\n",
    ")\n",
    "train_texts, dev_texts, train_cats, dev_cats = data_splits\n",
    "print(f\"Total: {len(all_texts)} ({len(train_texts)} train, {len(dev_texts)} eval)\")\n",
    "all_outcome = sum(c[label] for c in all_cats) / len(all_cats)\n",
    "train_outcome = sum(c[label] for c in train_cats) / len(train_cats)\n",
    "dev_outcome = sum(c[label] for c in dev_cats) / len(dev_cats)\n",
    "print(\n",
    "    f\"Outcome Rate: {all_outcome:.3f} ({train_outcome:.3f} train, {dev_outcome:.3f} eval)\"\n",
    ")\n",
    "train_data = list(zip(train_texts, [{\"cats\": cats} for cats in train_cats]))"
   ]
  },
  {
   "cell_type": "markdown",
   "metadata": {},
   "source": [
    "### Model Training\n",
    "The code below will train a model for 15 epochs on our training examples. I've modified the evaluation code to only apply to a single category. \n",
    "\n",
    "I had some difficulty finding the correct training parameters even after following the guidance [here](https://spacy.io/usage/training#textcat). Thus, I've left it as close to the original textcat example. Sometimes this requires manually retraining the model if the training loop fails to \"click\". **If running this on your own, you may have to retrain the model or toggle the parameters.**\n",
    "\n",
    "I also added a measure of the standard deviation of scores to check whether the model is training. Usually this provides some initial feedback about whether the model is training before the performance measures start to cohere. We're looking for this to be non-zero as we continue to train to demonstrate that the model isn't getting stuck and predicting the same score for every document."
   ]
  },
  {
   "cell_type": "code",
   "execution_count": 16,
   "metadata": {},
   "outputs": [],
   "source": [
    "def evaluate_single_category(\n",
    "    tokenizer: Tokenizer,\n",
    "    textcat: TextCategorizer,\n",
    "    docs: List[Doc],\n",
    "    eval_cats: List[Dict[str, int]],\n",
    "    label: str,\n",
    ") -> Dict[str, float]:\n",
    "    docs = (tokenizer(doc.text) for doc in docs)\n",
    "    tp = 0.0  # True positives\n",
    "    fp = 1e-8  # False positives\n",
    "    fn = 1e-8  # False negatives\n",
    "    tn = 0.0  # True negatives\n",
    "    scores = []\n",
    "    for i, doc in enumerate(textcat.pipe(docs)):\n",
    "        score = doc.cats[label]\n",
    "        gold = int(eval_cats[i][label])\n",
    "        if score >= 0.5 and gold >= 0.5:\n",
    "            tp += 1.0\n",
    "        elif score >= 0.5 and gold < 0.5:\n",
    "            fp += 1.0\n",
    "        elif score < 0.5 and gold < 0.5:\n",
    "            tn += 1\n",
    "        elif score < 0.5 and gold >= 0.5:\n",
    "            fn += 1\n",
    "        scores.append(score)\n",
    "    precision = tp / (tp + fp)\n",
    "    recall = tp / (tp + fn)\n",
    "    if (precision + recall) == 0:\n",
    "        f_score = 0.0\n",
    "    else:\n",
    "        f_score = 2 * (precision * recall) / (precision + recall)\n",
    "    scores_std = stdev(scores)\n",
    "    return {\n",
    "        \"textcat_p\": precision,\n",
    "        \"textcat_r\": recall,\n",
    "        \"textcat_f\": f_score,\n",
    "        \"textcat_score_std\": scores_std,\n",
    "    }"
   ]
  },
  {
   "cell_type": "code",
   "execution_count": 17,
   "metadata": {},
   "outputs": [
    {
     "name": "stdout",
     "output_type": "stream",
     "text": [
      "Training the model...\n",
      "LOSS \t  P  \t  R  \t  F  \t STD \n",
      "0.642\t0.583\t0.636\t0.609\t0.184\n",
      "0.418\t0.714\t0.455\t0.556\t0.235\n",
      "0.400\t0.750\t0.818\t0.783\t0.353\n",
      "0.249\t0.687\t1.000\t0.815\t0.426\n",
      "0.217\t0.647\t1.000\t0.786\t0.441\n",
      "0.175\t0.611\t1.000\t0.759\t0.460\n",
      "0.166\t0.611\t1.000\t0.759\t0.463\n",
      "0.653\t0.687\t1.000\t0.815\t0.453\n",
      "0.192\t0.733\t1.000\t0.846\t0.449\n",
      "0.792\t0.733\t1.000\t0.846\t0.450\n",
      "0.132\t0.687\t1.000\t0.815\t0.451\n",
      "0.141\t0.687\t1.000\t0.815\t0.446\n",
      "0.106\t0.687\t1.000\t0.815\t0.446\n",
      "0.090\t0.733\t1.000\t0.846\t0.438\n",
      "0.383\t0.786\t1.000\t0.880\t0.434\n"
     ]
    }
   ],
   "source": [
    "n_iter = 15\n",
    "\n",
    "other_pipes = [pipe for pipe in nlp.pipe_names if pipe != \"textcat\"]\n",
    "with nlp.disable_pipes(*other_pipes):  # only train textcat\n",
    "    optimizer = nlp.begin_training()\n",
    "    print(\"Training the model...\")\n",
    "    print(\"{:^5}\\t{:^5}\\t{:^5}\\t{:^5}\\t{:^5}\".format(\"LOSS\", \"P\", \"R\", \"F\", \"STD\"))\n",
    "    for i in range(n_iter):\n",
    "        losses = {}\n",
    "        random.shuffle(train_data)\n",
    "        batches = minibatch(train_data, size=compounding(4.0, 32.0, 1.001))\n",
    "        for batch in batches:\n",
    "            texts, annotations = zip(*batch)\n",
    "            nlp.update(texts, annotations, sgd=optimizer, drop=0.2, losses=losses)\n",
    "        with textcat.model.use_params(optimizer.averages):\n",
    "            scores = evaluate_single_category(\n",
    "                nlp.tokenizer, textcat, dev_texts, dev_cats, label\n",
    "            )\n",
    "        print(\n",
    "            \"{0:.3f}\\t{1:.3f}\\t{2:.3f}\\t{3:.3f}\\t{4:.3f}\".format(  # print a simple table\n",
    "                losses[\"textcat\"],\n",
    "                scores[\"textcat_p\"],\n",
    "                scores[\"textcat_r\"],\n",
    "                scores[\"textcat_f\"],\n",
    "                scores[\"textcat_score_std\"],\n",
    "            )\n",
    "        )"
   ]
  },
  {
   "cell_type": "markdown",
   "metadata": {},
   "source": [
    "#### Model Sanity Check"
   ]
  },
  {
   "cell_type": "code",
   "execution_count": 18,
   "metadata": {},
   "outputs": [
    {
     "name": "stdout",
     "output_type": "stream",
     "text": [
      "Relevant Score: 0.937 :: Irrelevant Score: 0.004\n"
     ]
    }
   ],
   "source": [
    "test_text_relevant = \"I purchased this because I wanted a cool device.\"\n",
    "test_text_irrelevant = \"This has nothing to do with the category classification.\"\n",
    "\n",
    "doc_relevant = nlp(test_text_relevant)\n",
    "doc_irrelevant = nlp(test_text_irrelevant)\n",
    "\n",
    "print(\n",
    "    f\"Relevant Score: {doc_relevant.cats[label]:.3f} :: Irrelevant Score: {doc_irrelevant.cats[label]:.3f}\"\n",
    ")\n",
    "\n",
    "assert doc_relevant.cats[label] > doc_irrelevant.cats[label]\n",
    "assert doc_relevant.cats[label] - doc_irrelevant.cats[label] > 0.1"
   ]
  },
  {
   "cell_type": "code",
   "execution_count": 19,
   "metadata": {},
   "outputs": [],
   "source": [
    "for doc in textcat.pipe(parsed_subset):\n",
    "    pass  # delegates to the predict and set_annotations methods."
   ]
  },
  {
   "cell_type": "markdown",
   "metadata": {},
   "source": [
    "### Cycle 1: Review *False Negatives*"
   ]
  },
  {
   "cell_type": "code",
   "execution_count": 20,
   "metadata": {},
   "outputs": [
    {
     "name": "stdout",
     "output_type": "stream",
     "text": [
      "0.98\n",
      "FULL: \t Corer works well for cupcakes, the main reason I bought it. Easy to clean, easy to use...beats the heck out of a knife. I haven't used it on fruit, and probably won't, so can't comment on traditional use. Sorry about that :)\n",
      "0.98\n",
      "FULL: \t My last masher (from a respected and pricey brand name) couldn't take the pressure-literally!  One day I'm just mashing up a batch of potatoes and *snap&#34; it's time for the trash bin.  That's why I bought this masher from OXO.This one is a solid, heavy-gauge steel wire that goes all the way up into the sturdy handle.  I'm not sure I could break it if I tried!  Works great at mashing (just as good as one with square or circle holes), and the large grip makes it easy to hold even if you get a little butter on your hands (trust me, I have done it).\n",
      "0.98\n",
      "FULL: \t OXO has provided a very nice product at a fair price one again.I buy more and more OXO products, at first I thought that they were expensive yet when you get these spatulas you will appreciate them as I do. When I bought them I thought what would I use the Spoon Shaped one for, Magenta colored one.I use it more then the other two, which is why I bought the set. I find that the graduated size is quite useful.\n",
      "0.98\n",
      "FULL: \t I know Oxo products get always good review.  This is the reason why I bought this product.  It's also a very good peeler.\n",
      "0.98\n",
      "FULL: \t This \"potato masher\" is perfect if you like \"smashed\" potatoes rather than mashed, and you like to leave the skin on your potatoes.  I had the kind with the flat head and holes and it works fine for peeled potatoes.  If I left the peels on, they got stuck in the holes and I kept having to clean them out.  You also end up with smooth potatoes rather than lumpy like I prefer.  So I purchased this \"masher\" and couldn't be happier.  It makes perfect \"smashed\" potatoes and any other root vegetables.  The other thing I use it for (and one reason why I bought this kind of masher) is to break up hamburger or sausage in a frying pan.  It works so much better (and faster) than a wooden spoon.  Just be careful if you are using a non-stick pan not to scrape the bottom of the pan.  Another good use for this masher is to break up whole tomatoes from a can.  Just dump them into a bowl and mash away.Like all other Oxo products, this masher is well made and will probably last for a very long time.\n",
      "0.98\n",
      "FULL: \t I had purchased a Kuhn-Rikon cooker but it finally failed. I bought this one from Amazon and it works great for one reason: It cannot fail. The old fashioned jiggler weight is fail-proof. Cookers with springs and valves will fail over time-the heat and pressure do damage.My little weight became crusty with water salts, so I bought a new one. No problem.\n",
      "0.97\n",
      "FULL: \t I used to own a White Mountain hand crank ice cream maker -- I figured that was the only \"real\" way to make ice cream, rock salt and all. I bought this device and raced them head to head and the next week the hand crank maker was out by the curb for trash collection!This thing works GREAT! Use your imagination and try some fresh fruit sorbets, make a simple syrup and then freeze it with lime juice, for instance -- it's incredible! I find that using instant espresso powder gives me a real coffee flavor kick when I make coffee ice cream. And there's a recipe in the included booklet for Jell-O Pudding Ice Cream, which my kids rave about.I found some apricot juice at the market and used it in the ice cream maker -- it turned out some gourmet-like apricot sorbet! WOW!!!I tend to avoid the heavy cream called for in the recipes and use at most half and half with milk. Too much milkfat tastes gross. Too little tastes icy and awful.It's simple, it works well, it's not all that expensive and the ice cream you'll make is easily better than the most expensive storebought ice cream available! The machine has a small footprint and the only noise it makes is kind of a \"rawr rawr rawr\" as it rotates the central vessel. All you have to do is mix the ice cream base, pour it in the machine and flip the switch!\n",
      "0.97\n",
      "FULL: \t I love everything of Wilton's. I bought this book to find out that I have the same one with just a different cover! But, it had a couple more ideas that I didn't have, great book, very simple to follow.\n",
      "0.97\n",
      "FULL: \t Stainless Steel, with rubber grips, and a clever locking mechanism built into the end. Good, Heavy-Gauge stainless steel won't easily get bent out of shape picking up heavy stuff. Well worth the purchase. I bought the 16&#34; length.\n",
      "0.97\n",
      "FULL: \t I had an old salad spinner that finally died so my husband picked up a cheapy at Walmart. Big mistake. It had a cord that frayed and broke after only six months. I bought this one on Amazon and am very happy with it. The large size is perfect for use when entertaining and the push plunger mechanism is solid, with no cord to fray and snap! I have a feeling this salad spinner will be around for years and years.\n",
      "0.97\n",
      "FULL: \t This is a MINI processor, and that's why I bought it...NOT to do the big jobs, I have the \"big boy\" to do that.  I do like the how handy it is to do the small jobs, so I don't have to use the big one.  I use it a lot to make home made dressing.  Clean up is easy and quick, as is the machine.  It will scar the bowl if you try to grind hard spices, etc. however...but it states that in the manual.\n",
      "0.97\n",
      "FULL: \t It works great for me. I bought it a while ago and it's still as good as new. It does take up a lot of room in my kitchen drawer, but it's a nice product.\n",
      "0.97\n",
      "FULL: \t Love using these tongs! For the quality they are very reasonably priced. Locking feature is great and the steel is thick. Very happy with the purchase. I bought the 12 and 9 inch, so far I'm using the 9 inch the most while cooking.\n",
      "0.97\n",
      "FULL: \t Fairly large. OXO always make great product. I bought this for the french press coffee grounds and i didn't want to clog up my kitchen sink and this item works great.\n",
      "0.97\n",
      "FULL: \t handle easy to hold. sturdy whisk that does the job nicely and w/ ease. I bought the smaller version as well and like that one too.\n",
      "0.97\n",
      "FULL: \t Fine if you are in a pinch or don't have a place to plug in. It just doesn't compare to a full upright vacuum though in terms of what it will pick up. I purchased thinking that the size would be a lot smaller than a full sized vac. It is only very slightly smaller than most of the uprights on the market. Probably a good choice as a multipurpose indoor to car vac. Be prepared to empty often.\n",
      "0.97\n",
      "FULL: \t I love vacuums. But I'm not exactly sure why folks love this vacuum so much. I bought it for quick pick-ups between major cleanings, and it works well enough for that. Here are my pros and cons:PRO- light- bristles work well on thin carpet and throw rugs -- have a feeling it wouldn't work well on thicker carpet- has the option to use as a handheld or a normal vacuumCONS- Annoying to empty - the cannister doesn't fit properly and you have to wiggle it in just so. For something that is supposed to be an easy mid-week run around the house, this turns it into an annoying chore.- The metal handle isn't that stable. It kind of wobbles in the canister. It's not loose, per se, but wobbly enough to be annoying.- The handle doesn't collapse into itself - it clips on or off. So if you're vacuuming and want to use it as a handheld, you have to undo the handle...then what? Hold it? Put it down somewhere and come back later when you need it, usually in another room? Annoying.- Weirdly weighted - the bottom is kind of light but the canister is heavy. It just feels weird when you're driving it around the house. It doesn't turn all that well, and it's light enough to just pick up and reposition where you want it, but the weird weighting makes this more annoying than useful.All in all, it's 'fine' but definitely not great.\n",
      "0.97\n",
      "FULL: \t Until you try these, you won't realize how poorly most kitchen implements are designed. I bought there not long after I bought my Oxo can opener, and I'm slowly buying all their tools. The peeler in particular is a wonder.  Unlike most peelers, it doesn't cut into your palm or slip, and it seems to  just glide over cucumbers.\n",
      "0.97\n",
      "FULL: \t This thing does it's job! It cuts a mean pizza. Seems sturdy. I bought it as a gift but considered stealing it and giving my old one. Sadly, I decided to be a good friend and let the good one go. Probably going to buy another one for myself!\n",
      "0.97\n",
      "FULL: \t I'll be honest; I don't get much exposure to a great variety of vegetable peelers, but I would hazard a guess that this is one of the best.I bought this based on the other good Amazon reviews and have not regretted it. Its sharp and very efficiently does its job.My sister came over for Christmas and after using it on a few dozen vegetables was so impressed that she went out the next day to find one of her own. I have a reputation in my family for buying the best of the best, no matter the cost, so she was very surprised to find this peeler was so cheap.Buy it, it just works.\n",
      "0.97\n",
      "FULL: \t It's very durable & holds a lot. I bought it for the back of my daughter pick up truck (dodge Dakota). My only disappointment was that it wasn't long enuf to kinda touch each side of the back. I was hoping for it to fit snug but otherwise it's exactly what I was looking for just not long enuf.\n",
      "0.97\n",
      "FULL: \t This salad spinner is a clear winner! Just a few spins removes the water from your salad greens using centrifugal force. It spins the greens so dry that I don't even bother blotting them with paper towels. I purchased the large clear model and use it to store my greens after spinning the salad greens and pouring out the water. This is definitely a practical, worthwhile purchase.\n",
      "0.97\n",
      "FULL: \t I was going to spend more money on a more expensive model... however i read some reviews and people swore by this product.I bought it and first day i bought it i pressure cooked a whole chickena nd it turned out great.  IT does the jobs without frills and cleans up great.  Good thing is... if it hits the fan than i can just buy another to replace it.\n",
      "0.97\n",
      "FULL: \t Only thing that surprised me was that I had to put peas and lintels in a pot, inside of the pot.I bought a 10 dollar pot to fit inside and now I can dal with the best of them.\n",
      "0.97\n",
      "FULL: \t My favorite dish brush.  When the price took a big dip I bought several.  They will last a long time too if you don't use it on hot pans and store with bristles up or not resting on anything that flattens them.  Run through the dishwasher monthly or sooner.  The large diameter handle fits my XL hand well.  If the price is around $5 - 7 jump at $10 no way?  But if ten is nothing then go for it.  I have not found anything better.\n",
      "0.97\n",
      "FULL: \t This bowl is terrific for gripping the counter top. I bought one for its spout and handle and discovered it was ideal for my single-handed niece. She can prop it securely on the counter with one arm and mix stiff cookie dough. The high sides reduce slopping and the pouring spout depth helps determine where the mix will go even if the angle is steep.Terrific design!\n",
      "0.97\n",
      "FULL: \t From now on, I'll always look for a Lasko 3733 when I need to replace a fan. I bought my first one 5 years ago and it ran 24/7 365 days a year. It took 5 years of continuous use before one of the ball bearings wore out. FIVE YEARS of 24/7/365 use! This is a superb fan!This fan is very well balanced. It never wobbles or shakes.This fan is not a quiet as I'd like, but then again, I want perfection and that's not going to happen. It  is quiet enough on the slow setting, and making a fan spin faster does nothing to move air faster (believe it or don't, this is pure physics).Cleaning of this fan is very easy. Simply remove the grill screws, then remove the grills. Then unscrew the blade holder, and pull the blades off the spindle. Wash in hot, soapy water. Replace everything, then turn it on so that it drys itself.\n",
      "0.97\n",
      "FULL: \t This is my second presto stainless steel. The first one is still going strong, in constant use since 1984. The old one is twice the size of this one, and I bought this smaller pressure cooker so I can cook smaller portions.it works perfectly as intended.\n",
      "0.97\n",
      "FULL: \t This product works great, if the unit kept in the freezer for long enough, the consistency of the ice cream gets very good. It's easy to clean as well. I bought an ice cream maker so I could use organic ingredients, and everything has turned out fantastic so far. I have no complaints.\n",
      "0.97\n",
      "FULL: \t First the pros: 1:Good value.  2: Moves a lot of air.  3: Reversible is great.Now the cons:  1: Very noisy on LOW speed.  2: Noise level is higher in reverse from added blade noise.  3 Very difficult to mount in window.I bought it for my bedroom but decided that due to the noise it was better suited to the living room. Still a good value but with  a couple caveats.\n",
      "0.97\n",
      "FULL: \t I needed a tool for cutting into a tray of lasagna & found this one. I bought two - one for my daughter, one for me. This is one of my favorite kitchen tools. It has a nice thin edge that is plenty sharp for cutting into a tray of lasagna, but not sharp enough to cut your fingers. It is well made & very sturdy. I highly recommend this tool to anyone who needs to cut into a tray of food.\n",
      "0.97\n",
      "FULL: \t This small mesh strainer is ideal for straining nut milks and fresh made juices.I bought this to replace my nut milk bag (too difficult to clean well) and cheesecloth (not reusable.)  It is an ideal size and easy to clean.  Because it is stainless steel, after a good rinse under the faucet, it can be placed in the dishwasher.I have used this strainer so much I am considering purchasing another.\n",
      "0.97\n",
      "FULL: \t I just bought mine from rural king for $59 . Im not experienceing any rattles or anything on high speed. At 1/6 hp its  enough air for early spring/summer but during the dog days of summer when nights are still over 80 its not going to cool your house down you will still need the ac on those nights. But on cooler nights you can put this fan on intake and bring in the fresh night air which is one thing I like. You can just open a couple of windows a few inches and feel the air being pulled in. The fan cannot cool the air any more than the actual temp is but it might feel cooler. The reason I bought mine is to not use the ac any more than I have too maybe save a buck or two. Its sort of nice to be able to close the window behind the fan which Ive never been able to do that before. But we will see how this fan holds up.\n",
      "0.97\n",
      "BECAUSE: \t I bought this 3670G 12 amp Eureka mainly for the tiled floors, cleaning the drapes and (because of its long wands) hard to reach places behind desks and work tables.\n",
      "BECAUSE: \t I do not recommend this vacuum for carpets in general because the large attachment you see in the photo is not a brush attachment (it does come with a smaller brush attachment for drapes and hard to reach spots).\n",
      "BECAUSE: \t It is also great for cleaning drapes (floor to ceiling) and hard to reach spots because of the long wand extensions.  \n",
      "0.97\n",
      "FULL: \t I'm a Star Wars fan and I bought this with the intention of using it for groceries but it turned into my new diaper bag. It's huge! I can fit everything i need in it where before I had my diaper bag and another bag and my purse. It has started to come apart on the side but I can sew it or order a new one it's so cheap. I am sure the intended purpose isn't for it to be used as a diaper bag daily but it works and I have gotten compliments on it even! It goes great with my Star Wars Vans too :D\n",
      "0.97\n",
      "FULL: \t The Eureka Mighty Mite is made in China.I bought mine from Amazon in September 2011, so just over a year ago.  It has very good suction, and it is cheap.  The attachments aren't very effective, but overall, it is a pretty good vacuum.  I have a golden retriever, so the vacuum is a little overmatched, but considering it is about $60, I have no complaints whatsoever.I did just buy a more expensive vacuum, which is much better. Mighty Mite is now my teams backup QB. I hope I don't need to use him, but I am confident that if our number 1 goes down with an injury the Mighty Mite knows the playbook, and can perform capably under center.Go Bears!\n",
      "0.97\n",
      "FULL: \t I bought this book to help me out with decorating cakes and cupcakes as a beginner. I have found this book to be an excellent reference for the first time decorator. I ended up buying two different tips that did not come with my cake decorating set, that I have found very useful. I bought the cake curved spatulas, from Amazon,that work very well. I also bought the bench knife, and found a 16\" cake lifter, and a 18\" cake leveler. I got all these great ideas from this book. I bought other things in the book from Amazon, however, the list goes on too long to keep mentioning everything. Buy the book, great starter outer! Oh yes, I always take a look at all of the good and not so good reviews for every product I purchase from Amazon.comSincerely,Super Chef David\n",
      "0.97\n",
      "FULL: \t I'm reviewing this even though I never bought it, for some reason Amazon put it in my items to review. I bought other OXO stuff and it is all good so this probably is too but what do I know. It is a brush, probably brushes stuff, yee-haw!\n",
      "0.97\n",
      "FULL: \t This is the perfect instrument for making peanut butter and jelly. It's not really sharp, so it's great for my kids. And it's long enough that it reaches to the bottom of the jar. I bought 3 overall!\n",
      "0.97\n",
      "FULL: \t I've made vanilla, strawberry (using fresh strawberries) and chocolate ice cream in this machine and it was all yummy. I just used the recipes that came with the machine. So far, the strawberry was the best. Each batch consistently took 25 minutes to make. It's easy to use and easy to clean. I bought the red unit which adds a fun color to my kitchen when not in use. The opening at the top is also convenient for scooping up a spoonful of ice cream for tasting without turning the unit off. I'm sorry I didn't buy this sooner. I love how simple and easy it is to use. I'm going to start experimenting with my own recipes now that I've got the hang of it.The only very minor downside is that it's a little noisy while it's running so you can't really enjoy a quiet meal and make dessert at the same time unless you can stick it in a another room. But I just make a batch early before dinner and store it in the freezer while we're eating.\n",
      "0.97\n",
      "FULL: \t I am very happy with this pressure cooker, seems to be very well made (which is important for safety). I bought it to cook beans but it comes with a few recipes if you are new to pressure cooking so I tried a roast beef one and it came out great.\n",
      "0.97\n",
      "FULL: \t I bought this ice cream maker after I took an Ice Cream, Gelato and Sorbet class at Sur La Table cooking store.  Because we were making so many different types of desserts, we had several ice cream makers working in the classroom at the same time.  This ice cream maker was by far my favorite that day and I bought it about a week later.I liked the ease of adding ingredients through the opening on the top and the size is perfect for me.I have used my new ice cream maker with no problems.  The bowl froze easily (probably in less than 24 hours) in the bottom and back of the freezer.  Within about 20 minutes, I had wonderfully frozen ice cream.I certainly plan on getting more adventurous with my ingredients and do not anticipate any problems with this wonderful machine.\n",
      "0.96\n",
      "FULL: \t I had never in my life had homemade ice cream until now, my husband and I bought this as a Christmas present to the both of us, we have everything else you can think of but never an ice cream maker, well we are so impressed with the ice cream we can't wait to try other types. It is without a doubt the best tasting ice cream I have ever had, and this machine makes it so easy to make, just pour in the ingredients and turn it on, set a timer and you can relax, when it is done transfer the ice cream to a freezer safe container and let it harden and you have the best tasting ice cream ever! Try it, you will love it!\n",
      "0.96\n",
      "FULL: \t I started working nights and my wife does not cook so I had to start pre-making dinner. This item has been a lifesaver to create fresh salads which can be stored. I purchased the large one. I can use the bowl to ice bath the lettuce and then empty it into the collander and dry it. I also use the bowl to then toss the salad with dressing. This item also allows me to wash fresh fruit like starberries and grapes, then spin dry and store in tupperware for the week. A must needed product for any kitchen. Don't skimp, get the big one, you will need it. I highly recommend this product.\n",
      "0.96\n",
      "FULL: \t I like the shape, the way it handles, the size, and even the cost. I use it for lasagna and cake and anything I can use it to scoop out things. I don't use it for cooking but that's not what I bought it for. I bought it for serving, so thumbs up for that and its pretty too\n",
      "0.96\n",
      "FULL: \t Then go with the Ninja Master Prep. I bought both and the Cusinart turned an onion into mush. When i tried to just pulse it the pieces were very inconsistant, so I pulsed a littlemore and it turned it to mush. On the New Ninja Master Prep. It has only pulse one speed, but its more powerful and the mini base has four blades, two like the cusinart and two more above them so if you put a half an onion in and give it one short pulse your done. I had to chop garlic the Ninja chopped it up perfectly. Its more money than the mini cusinart but its a muchbetter unit.\n",
      "0.96\n",
      "FULL: \t All tongs are not created equal. Most at this price don't grip, don't line up straight, and bend easily. Not these. They are real work horses. They are sturdy, line up, grip well, and the locking mechanism actually works when not in use. I bought 2 pair. If I had 3 hands, I would have bought three. They are just the right length for just about any use. Get them.\n",
      "0.96\n",
      "FULL: \t I love quinoa, but didn't love rinsing it first. It's important to rinse it first to reduce the phytic acid in it, otherwise you will get digestive problems. Any strainer I had ended up with bits of quinoa stuck in the strainer, and such a pain to clean! This one is perfect! I bought the 6 inch one, and it's the perfect size, just large enough, just deep enough, for one or several portions of quinoa! I rinse it thoroughly, then dump it in the pan, and nothing gets stuck!! I'm so happy with this purchase. Can't speak for how it will wear or rust over time... I thought it was a bit pricey, but it's very sturdy and worth the price, so right now I highly recommend it!\n",
      "0.96\n",
      "FULL: \t This spinner is easy to use and compact. I purchased it to replace a larger, bulkier spinner I had. I'm very pleased with the performance and ease of use. If you need a spinner, this is a good one. But if you're going to do a large amount of greens, you may want a bigger version.\n",
      "0.96\n",
      "FULL: \t After years of owning 2 versions of this kettle, I am finally writing a review. When OXO first came out with this kettle, I was blown away by its design. Whoever designed this kettle deserves some kind of industrial design award. It is so efficient, simple, elegant, and easy to use, you would think it was designed by Apple. \"Just lift the handle and pour.\" - This kind of simplicity must have been very difficult to engineer.I bought my first OXO kettle when it first came out. I had it for years without any problems whatsoever. I did not have problems with the whistle nor did I have problems with rusting. It was perfect.Unfortunately, I was smitten with the premium \"cork\" version that came out a few years ago and I dumped my first kettle for the newer, sleeker version. Boy, it was beautiful BUT boy, I made a mistake.I had it for 6 months and this OXO Good Grips kettle started rusting inside. My mom bought the black handled version and her kettle rusted too. I too am having problems with the whistle.I should've kept my first kettle. I am sure that when OXO first came out with these kettles that they used 18/10 stainless steel. Not any more. OXO must be using poor, lower grade steel to save costs and raise profits. OXO would disagree with me. Fine. My response to this is: Why do so many of us have rusted out kettles? Check these reviews OXO and fix the problem.In the end this OXO kettle is one product I would gladly pay more money for if I knew that the quality was uncompromised; if the highest grade of stainless steel were used and the whistle were engineered so that it functioned without flaw. Boiling water is a simple, every day task. I don't want to have to think about it and I don't want to have to think about my kettle. This OXO kettle is so close yet so far.\n"
     ]
    }
   ],
   "source": [
    "fn_docs = [doc for doc in parsed_subset if not bool(doc._.initial_rule) and doc.text]\n",
    "fn_docs_sorted = sorted(fn_docs, key=lambda d: d.cats[label], reverse=True)\n",
    "\n",
    "for doc in fn_docs_sorted[:50]:\n",
    "    print(f\"{doc.cats[label]:.2f}\")\n",
    "    printed_because = False\n",
    "    for sent in doc.sents:\n",
    "        if \"because\" in sent.text:\n",
    "            printed_because = True\n",
    "            print(\"BECAUSE: \\t\", sent.text)\n",
    "    if not printed_because:\n",
    "        print(\"FULL: \\t\", doc.text)"
   ]
  },
  {
   "cell_type": "markdown",
   "metadata": {},
   "source": [
    "\n",
    "After reviewing the top 50 false negatives, we've come up with some new additions to our rules. I've also documented some noted exclusions - patterns that might be what we're looking for, but will be out of scope for this iteration.\n",
    "\n",
    "✅ **Rule Additions:**\n",
    "- Add \"We\" to the first token set of the rule\n",
    "- Add `ordered` to the verbs\n",
    "- Accept lowercase \"i\" or \"we\" as initial pronouns\n",
    "- Accept non-alpha tokens between verb and because (`I bought this pastry scraper/chopper because` isn't catching because of the `/`)\n",
    "\n",
    "🚫 **Noted Exclusions:**\n",
    "- No reference to person or pronoun. `Bought this because the ratings were high.` Could do a rule without the pronoun, but would capture things like \"My friends bought this...\" which we don't want.\n",
    "\n",
    "💭 **Other Ideas:**\n",
    "- Include an optional adverb between `-PRON-` and `bought` to capture phrases like `I primarily bought this because`.\n",
    "- Verify matches do not span more than a single sentence. This is to counter the greedy nature of the matcher.   \n",
    "  - Additionally, let's be sure the token matches the first token in a sentence to avoid some false positives."
   ]
  },
  {
   "cell_type": "markdown",
   "metadata": {},
   "source": [
    "## Cycle  2\n",
    "### Cycle 2: Update Match Pattern & Match Documents"
   ]
  },
  {
   "cell_type": "code",
   "execution_count": 21,
   "metadata": {},
   "outputs": [],
   "source": [
    "def add_shortest_match(matcher: Matcher, doc: Doc, i: int, matches: List):\n",
    "    match_id, start, end = matches[i]\n",
    "    sent_boundaries = ((sent.start, sent.end) for sent in doc.sents)\n",
    "    for (s_start, s_end) in sent_boundaries:\n",
    "        if (start == s_start) and (end <= s_end):\n",
    "            string_id = nlp.vocab.strings[match_id]\n",
    "            mlist = doc._.get(string_id)\n",
    "            starts = [s for s, e in mlist]\n",
    "            if start not in starts:\n",
    "                mlist.append((start, end))\n",
    "                doc._.set(string_id, mlist)"
   ]
  },
  {
   "cell_type": "code",
   "execution_count": 22,
   "metadata": {},
   "outputs": [],
   "source": [
    "patterns_2 = [\n",
    "    [\n",
    "        {\"LOWER\": {\"IN\": [\"i\", \"we\"]}},\n",
    "        {\"POS\": \"ADV\", \"OP\": \"?\"},\n",
    "        {\"LOWER\": {\"IN\": [\"bought\", \"purchased\", \"got\", \"ordered\"]}},\n",
    "        {\"LENGTH\": {\">=\": 1}, \"OP\": \"*\"},\n",
    "        {\"LOWER\": {\"IN\": [\"because\"]}},\n",
    "    ]\n",
    "]\n",
    "\n",
    "second_rule = MatchRule(\"second_rule\", patterns_2)\n",
    "Doc.set_extension(second_rule.name, default=[], force=True)\n",
    "matcher.add(second_rule.name, add_shortest_match, *second_rule.patterns)\n",
    "\n",
    "for _ in matcher.pipe(parsed_subset):\n",
    "    pass  # leave it to the callback"
   ]
  },
  {
   "cell_type": "markdown",
   "metadata": {},
   "source": [
    "#### Statistics & Sanity Check"
   ]
  },
  {
   "cell_type": "code",
   "execution_count": 23,
   "metadata": {},
   "outputs": [
    {
     "name": "stdout",
     "output_type": "stream",
     "text": [
      "77 matches. 1.54% of data\n"
     ]
    }
   ],
   "source": [
    "total = sum(bool(d._.second_rule) for d in parsed_subset)\n",
    "length = len(parsed_subset)\n",
    "print(f\"{total} matches. {(total/length)*100:.2f}% of data\")"
   ]
  },
  {
   "cell_type": "code",
   "execution_count": 24,
   "metadata": {},
   "outputs": [
    {
     "name": "stdout",
     "output_type": "stream",
     "text": [
      "I ordered this lesson plan because\n",
      "I ordered the Cuisinart because\n",
      "I ordered this vacuum because\n",
      "We purchased this unit originally for our own use, because\n",
      "I bought this 3670G 12 amp Eureka mainly for the tiled floors, cleaning the drapes and (because\n",
      "I purchased a Hoover Wind Tunnel model UH70120 and bought these belts only because\n",
      "I ordered those belts with the Hoover Tempo Widepath Upright Vacuum,  U5140-900 because\n",
      "I ordered this particular ricer because\n",
      "We got rid of the automatic can opener because\n",
      "I ordered a pair of these tongs as a gift because\n",
      "I bought these, believe it or not, because\n",
      "I bought this for my daughter's birthday, because\n",
      "I bought this while on a health kick, thinking it would make me eat more salad, and because\n",
      "I bought this salad spinner from Bed Bath & Beyond because\n",
      "I got so tired of wasting money on the prepackaged salads, because\n",
      "I bought 2 of these because\n",
      "I ordered this because\n",
      "We bought this because\n",
      "I bought the \"Oxo SteeL Can Opener\" because\n",
      "We bought a nice-looking mixer because\n",
      "I ORDERED BECAUSE\n",
      "I bought this pastry scraper/chopper because\n",
      "I actually ordered this whisk because\n"
     ]
    }
   ],
   "source": [
    "new_docs = (d for d in parsed_subset if d._.second_rule and not d._.initial_rule)\n",
    "for doc in new_docs:\n",
    "    for match in doc._.second_rule:\n",
    "        print(doc[match[0] : match[1]])"
   ]
  },
  {
   "cell_type": "markdown",
   "metadata": {},
   "source": [
    "### Cycle 2: Train Textcat Model"
   ]
  },
  {
   "cell_type": "code",
   "execution_count": 25,
   "metadata": {},
   "outputs": [
    {
     "data": {
      "text/plain": [
       "1"
      ]
     },
     "execution_count": 25,
     "metadata": {},
     "output_type": "execute_result"
    }
   ],
   "source": [
    "label = \"BUYBECAUSE\"\n",
    "\n",
    "if \"textcat\" in nlp.pipe_names:\n",
    "    nlp.remove_pipe(\"textcat\")\n",
    "\n",
    "textcat = nlp.create_pipe(\n",
    "    \"textcat\", config={\"exclusive_classes\": False, \"architecture\": \"ensemble\"}\n",
    ")\n",
    "nlp.add_pipe(textcat, last=True)\n",
    "textcat.add_label(label)"
   ]
  },
  {
   "cell_type": "code",
   "execution_count": 26,
   "metadata": {},
   "outputs": [],
   "source": [
    "rus = RandomUnderSampler(random_state=0, sampling_strategy=0.25)\n",
    "X = parsed_subset\n",
    "y = [bool(d._.second_rule) for d in parsed_subset]\n",
    "X_resampled, y_resampled = rus.fit_resample(np.array(parsed_subset).reshape(-1, 1), y)\n",
    "\n",
    "all_texts = X_resampled[:, 0].tolist()\n",
    "# Take advantage of the fact that an empty list is Falsy\n",
    "all_cats = [{label: outcome} for outcome in y_resampled]"
   ]
  },
  {
   "cell_type": "code",
   "execution_count": 27,
   "metadata": {},
   "outputs": [
    {
     "name": "stdout",
     "output_type": "stream",
     "text": [
      "Total: 385 (308 train, 77 eval)\n",
      "Outcome Rate: 0.200 (0.214 train, 0.143 eval)\n"
     ]
    }
   ],
   "source": [
    "data_splits = train_test_split(\n",
    "    all_texts, all_cats, train_size=0.8, test_size=0.2, random_state=666\n",
    ")\n",
    "train_texts, dev_texts, train_cats, dev_cats = data_splits\n",
    "print(f\"Total: {len(all_texts)} ({len(train_texts)} train, {len(dev_texts)} eval)\")\n",
    "all_outcome = sum(c[label] for c in all_cats) / len(all_cats)\n",
    "train_outcome = sum(c[label] for c in train_cats) / len(train_cats)\n",
    "dev_outcome = sum(c[label] for c in dev_cats) / len(dev_cats)\n",
    "print(\n",
    "    f\"Outcome Rate: {all_outcome:.3f} ({train_outcome:.3f} train, {dev_outcome:.3f} eval)\"\n",
    ")\n",
    "train_data = list(zip(train_texts, [{\"cats\": cats} for cats in train_cats]))"
   ]
  },
  {
   "cell_type": "markdown",
   "metadata": {},
   "source": [
    "#### Model Training"
   ]
  },
  {
   "cell_type": "code",
   "execution_count": 28,
   "metadata": {},
   "outputs": [
    {
     "name": "stdout",
     "output_type": "stream",
     "text": [
      "Training the model...\n",
      "LOSS \t  P  \t  R  \t  F  \t STD \n",
      "0.774\t0.692\t0.818\t0.750\t0.308\n",
      "0.504\t0.562\t0.818\t0.667\t0.329\n",
      "0.461\t0.556\t0.909\t0.690\t0.360\n",
      "0.387\t0.667\t0.909\t0.769\t0.307\n",
      "0.206\t0.588\t0.909\t0.714\t0.344\n",
      "0.182\t0.556\t0.909\t0.690\t0.366\n",
      "0.131\t0.611\t1.000\t0.759\t0.358\n",
      "0.140\t0.600\t0.818\t0.692\t0.354\n",
      "0.103\t0.625\t0.909\t0.741\t0.357\n",
      "0.073\t0.571\t0.727\t0.640\t0.348\n",
      "0.087\t0.600\t0.818\t0.692\t0.354\n",
      "0.088\t0.600\t0.818\t0.692\t0.352\n",
      "0.033\t0.562\t0.818\t0.667\t0.360\n",
      "0.050\t0.529\t0.818\t0.643\t0.361\n",
      "0.038\t0.500\t0.818\t0.621\t0.365\n"
     ]
    }
   ],
   "source": [
    "n_iter = 15\n",
    "\n",
    "other_pipes = [pipe for pipe in nlp.pipe_names if pipe != \"textcat\"]\n",
    "with nlp.disable_pipes(*other_pipes):  # only train textcat\n",
    "    optimizer = nlp.begin_training()\n",
    "    print(\"Training the model...\")\n",
    "    print(\"{:^5}\\t{:^5}\\t{:^5}\\t{:^5}\\t{:^5}\".format(\"LOSS\", \"P\", \"R\", \"F\", \"STD\"))\n",
    "    for i in range(n_iter):\n",
    "        losses = {}\n",
    "        random.shuffle(train_data)\n",
    "        batches = minibatch(train_data, size=compounding(4.0, 32.0, 1.001))\n",
    "        for batch in batches:\n",
    "            texts, annotations = zip(*batch)\n",
    "            nlp.update(texts, annotations, sgd=optimizer, drop=0.2, losses=losses)\n",
    "        with textcat.model.use_params(optimizer.averages):\n",
    "            scores = evaluate_single_category(\n",
    "                nlp.tokenizer, textcat, dev_texts, dev_cats, label\n",
    "            )\n",
    "        print(\n",
    "            \"{0:.3f}\\t{1:.3f}\\t{2:.3f}\\t{3:.3f}\\t{4:.3f}\".format(  # print a simple table\n",
    "                losses[\"textcat\"],\n",
    "                scores[\"textcat_p\"],\n",
    "                scores[\"textcat_r\"],\n",
    "                scores[\"textcat_f\"],\n",
    "                scores[\"textcat_score_std\"],\n",
    "            )\n",
    "        )"
   ]
  },
  {
   "cell_type": "markdown",
   "metadata": {},
   "source": [
    "#### Model Sanity Check"
   ]
  },
  {
   "cell_type": "code",
   "execution_count": 29,
   "metadata": {},
   "outputs": [
    {
     "name": "stdout",
     "output_type": "stream",
     "text": [
      "Relevant Score: 0.990 :: Irrelevant Score: 0.034\n"
     ]
    }
   ],
   "source": [
    "# Quick check that the model makes sensible predictions\n",
    "test_text_relevant = \"I purchased this because my old whisk broke.\"\n",
    "test_text_irrelevant = \"This has nothing to do with the category classification.\"\n",
    "\n",
    "doc_relevant = nlp(test_text_relevant)\n",
    "doc_irrelevant = nlp(test_text_irrelevant)\n",
    "\n",
    "print(\n",
    "    f\"Relevant Score: {doc_relevant.cats[label]:.3f} :: Irrelevant Score: {doc_irrelevant.cats[label]:.3f}\"\n",
    ")\n",
    "\n",
    "assert doc_relevant.cats[label] > doc_irrelevant.cats[label]\n",
    "assert doc_relevant.cats[label] - doc_irrelevant.cats[label] > 0.1"
   ]
  },
  {
   "cell_type": "code",
   "execution_count": 30,
   "metadata": {},
   "outputs": [],
   "source": [
    "for doc in textcat.pipe(parsed_subset):\n",
    "    pass  # delegates to the predict and set_annotations methods."
   ]
  },
  {
   "cell_type": "markdown",
   "metadata": {},
   "source": [
    "### Cycle 2: Review *False Negatives*\n"
   ]
  },
  {
   "cell_type": "code",
   "execution_count": 31,
   "metadata": {},
   "outputs": [],
   "source": [
    "fp_docs = [doc for doc in parsed_subset if not bool(doc._.second_rule) and doc.text]\n",
    "fp_docs_sorted = sorted(fp_docs, key=lambda d: d.cats[label], reverse=True)"
   ]
  },
  {
   "cell_type": "code",
   "execution_count": 32,
   "metadata": {
    "scrolled": true
   },
   "outputs": [
    {
     "name": "stdout",
     "output_type": "stream",
     "text": [
      "0.99\n",
      "FULL: \t Ok I bought this b/c I wanted a icing knife that was long enough to do the whole top of a 9 inch circle cake (what I typically bake). Unfortunately, while the knife is long like I wanted, it is too flimsy and flexible to do much else. I can't stir the frosting w/ it unless  I want to do a weak job, I can't frost the sides b/c of it's flimsiness, etc. So, OXO, please make a more sturdy long knife if you haven't already!\n",
      "0.99\n",
      "FULL: \t I recently received a bread maker and the crust on the whole wheat loaf is quite thick, thus my butter knives just weren't up to the task.  Therefore, I figured it's time to get a real bread knife.  I bought this OXO since I have lots of their others products that I like, and the reviews were good.  I'm happy to say, that it's as great as everyone says.The knife cuts through bread loaves smoothly and cleanly.  I've washed it by hand and in the dishwasher and have never had any issues.  It feels good in the hand and balances nicely.All in all... you can't go wrong!\n",
      "0.99\n",
      "FULL: \t I bought this OXO Good Grips whisk in the 11\" size thinking it would be good for many uses.  I didn't want to get too dinky of one and this one definitely isn't dinky!  Good big size, nice grip (like all the good grips line).  I highly recommend.\n",
      "0.99\n",
      "FULL: \t I bought about 5 of these just to have on hand while the others are in the dishwasher...love them!!!\n",
      "0.99\n",
      "BECAUSE: \t The other version with the clear orange container is nice because you can see how full it was without taking it off.\n",
      "0.99\n",
      "BECAUSE: \t It's perfect for use on the stairs, however, because it only weighs about 4 pounds!  \n",
      "0.99\n",
      "FULL: \t I got this brush to replace my vegetable brush that had a handle and was all plastic.  The OXO brush is easy to hold and I have much better control when scrubbing potatoes.  The bristles are much finer so that it removes more dirt and grit.\n",
      "0.99\n",
      "FULL: \t I bought this originally to core and fill cupcakes. This tool is great for this. You can remove the core of a cupcake and the cake will stick to the inside of the corer and easily pull out of the cupcake, Then you can use your finger to push the core out of the corer. Then fill your cupcake (with marshmallow cream, or cherry filling, so many yummy options). We also have used it to core cucumbers (and fill with herbed cream cheese). Of course coring apples is easy too. One thing I like is that while the tool isn't exceptionally sharp, with a bit of pressure it easily cores items. I like that it's not a super sharp tool, but rather serated to cut through items.\n",
      "0.99\n",
      "FULL: \t This lesson plan is a great companion to the Wilton decorating classes. I personally took the other 2 levels of classes in the series, but couldn't fit this one into my schedule, so I bought this lesson plan and theWilton Flowers and Cake Design Student Kitthinking I could learn on my own. I would consider myself an intermediate level decorator, and very good at self-study on many topics. But there were still some things in this book that it would be helpful to watch someone else do instead of teaching yourself - fortunately there are plenty of videos on the internet that helped me get through this. Overall, this is a great guide to decorating, but be prepared to do a little more searching on your own if you want to learn to perfect everything.\n",
      "0.99\n",
      "FULL: \t I bought 3 of the Oxo Good Grips can openers.  We kept two and gave my son one.  The first one died within a month when the black plastic tip broke.  We used the second one and again the black tip broke leaving it useless.  When I warned my son about the black plastic tip he told me that a chip broke in his but it still works.We are now using a cheap $1.99 pair we bought from Walmart. At least it opens a can, that is more than I can say about Oxo.OXO Good Grips Can Opener\n",
      "0.98\n",
      "FULL: \t I bought this item in March of 2011.Almost 2 years later, and with CONSTANT, REGULAR, FREQUENT daily use in our business office kitchen, the bristles have kept their integrity.This is wholly unlike most dish brushes which lose their shape and become annoyingly flat on the side you use the most, thereby rendering the brush USELESS.HIGHLY HIGHLY HIGHLY RECOMMENDED!!!!!!!!!!!!!!The only note for potential buyers is the brush I bought 2 years ago had a completely black handle, not the black/white one shown in the photo, so don't be shocked if you get something different!\n",
      "0.98\n",
      "FULL: \t Easy to use, sturdy grips.  I bought this about 3 years ago and it has performed very well, opens the can with minimal effort.  No rust has appeared which had been a problem with my previous can opener.  I'd buy this one again.\n",
      "0.98\n",
      "FULL: \t I bought this ice cream maker after I took an Ice Cream, Gelato and Sorbet class at Sur La Table cooking store.  Because we were making so many different types of desserts, we had several ice cream makers working in the classroom at the same time.  This ice cream maker was by far my favorite that day and I bought it about a week later.I liked the ease of adding ingredients through the opening on the top and the size is perfect for me.I have used my new ice cream maker with no problems.  The bowl froze easily (probably in less than 24 hours) in the bottom and back of the freezer.  Within about 20 minutes, I had wonderfully frozen ice cream.I certainly plan on getting more adventurous with my ingredients and do not anticipate any problems with this wonderful machine.\n",
      "0.98\n",
      "FULL: \t I bought this ice cream maker on Amazon close to two years ago and it is still going strong and making great ice cream! I use it at least twice a week and the ice cream comes out perfect every time. When first made, the ice cream is about the consistency of soft serve or a Wendy's Frosty. That's just fine with me, the flavor is best this way. After freezing whatever is left of the batch, the consistency is like store bought ice cream. I do not do anything fancy with it, just follow the directions in the included booklet for basic vanilla ice cream. In fact, the recipe calls for heavy cream and whole milk but I substitute 1 cup Half & Half and 2 cups low fat (2%) milk to keep it lower cal, and the consistency is still plenty smooth!Like other reviewers have said, be sure to freeze that container for plenty of time before using. Otherwise the ice cream will be real runny. I try to freeze it for 24 hours before use. As long as the directions are followed on this machine, it makes great ice cream every time. Highly recommend it. This is by far my most used kitchen gadget. Love it! Am going to buy another one as a gift right now.\n",
      "0.98\n",
      "FULL: \t I bought these about 18 months ago and I'm now replacing them.  The metal part of the tongs is fine but the rubber is degrading and turning funky - simultaneously greasy and sticky to the touch. Don't know whether it's from the frequent heating and cooling or from frequent trips through the dishwasher.  I've had the same thing happen with the rubber grips on other OXO tools.\n",
      "0.98\n",
      "FULL: \t All tongs are not created equal. Most at this price don't grip, don't line up straight, and bend easily. Not these. They are real work horses. They are sturdy, line up, grip well, and the locking mechanism actually works when not in use. I bought 2 pair. If I had 3 hands, I would have bought three. They are just the right length for just about any use. Get them.\n",
      "0.98\n",
      "FULL: \t This work well. It is funny the guard hides the potato as you are peeling. I like the guard as you cannot nick yourself when peeling,and I like the little 'plastic' guard you can put back on it after cleaning. It is a great product. I have several 'OXO' products,that was one of the reasons I purchased this particular peeler!\n",
      "0.98\n",
      "FULL: \t I bought 2 of these so I would always have one chilled and ready to go. I really like how fast it makes ice cream. I use both of the bowls and keep the second unit in storage as a replacement when this one wears out. Its not that much more to buy 2 units compared with buying an extra freezer bowl. So I should be making frozen desserts for years.I also make frozen yogurt and pudding ice cream. The texture is just right when its finished. I added frozen fruit at the end and it was great.It does get firmer if you put it into the freezer. So I put it into individual portions and that way I don't have to deal with a block.Clean up is easy\n",
      "0.98\n",
      "FULL: \t I bought this item specifically for grinding spices and herbs for indian cooking. It does a fairly decent job with the spices although you need to have at least 1/4 cup for it to work well. As to the herbs perhaps I'm doing something wrong but it did not do as well. The herbs that were above the blade stayed put and it took a lot of scraping the bowl to get them chopped up. An addition of something solid (perhaps an onion or a some butter) would probably take care of the problem but just the leaves on their own give this processor a hard time.\n",
      "0.98\n",
      "FULL: \t I'm reviewing this even though I never bought it, for some reason Amazon put it in my items to review. I bought other OXO stuff and it is all good so this probably is too but what do I know. It is a brush, probably brushes stuff, yee-haw!\n",
      "0.98\n",
      "FULL: \t I purchased this ice cream maker so that my husband and I can enjoy low or no carb ice cream. It makes the best ice cream, easy clean up. The one thing I did wrong the first time I attempted to use it was to pour the mix in BEFORE turning on the machine---NOT VERY SMART! The mixture froze along the bottom and sides in no time, and my machine jammed. After that first fiasco, my homemade ice cream has been yummy!\n",
      "0.98\n",
      "FULL: \t My first Oxo can opener was great until, after about 3 years, part of the handle broke (the part that you turn to open the can).  I got more than my money's worth out of it, so I bought another one.  It is not as good as the older one was.  The newer model pops off as I am opening the can, and I have to constantly reset the blade.  It also does not open the can completely, leaving that tiny bit at the end that has to be twisted off -- not a big deal for some, but the original opener removed the entire lid, end to end.  On the upside, it is comfortable to use.It took me a while to realize this, but...If you raise the back of the handle up while opening a can (so the opener is almost at a 45 deg. angle), the opener works much, much better.  (The opener may already operate at that angle for most, but for those 5' and under, it was difficult to open a can unless you raise your arm higher.)I think I am going to lower my counters soon.\n",
      "0.98\n",
      "FULL: \t This product works great, if the unit kept in the freezer for long enough, the consistency of the ice cream gets very good. It's easy to clean as well. I bought an ice cream maker so I could use organic ingredients, and everything has turned out fantastic so far. I have no complaints.\n",
      "0.98\n",
      "FULL: \t I bought an original one of these when they first came out (maybe 8-10 years??) and it is, so far, working fine.  This second one is much louder than my first, but it produces so much air and is so easy to clean, I don't mind it.  Am thinking of getting a third one.\n",
      "0.98\n",
      "FULL: \t I bought this one to replace the softworks model that we wore out (after about 5 yrs).  Pros on the green one:  Clear lid, removable spinner top liner for cleaning.  Cons:  it's not as big as the softworks model, and we cant get it to spin as fast.If I did it over, I'd go with the softworks model again (the white one).  Even though it doesn't break down as well for cleaning, it spins faster and holds more.\n",
      "0.98\n",
      "FULL: \t I bought a bunch of individual Oxo SteeL utensils and love them all. They feel substantial in the hand and I think they'll last a good long time.\n",
      "0.98\n",
      "FULL: \t I bought this item and tried several different powdered products in it and after 5 min of shaking, there was very little actually went through the sifter. I went to an antique mall and found an old fashion crank sifter and it works amazing and it was only $5. Don't waste your money on this item.\n",
      "0.98\n",
      "FULL: \t I had been using a plastic piece of crap scrapper I bought a WalMart and wanted something sturdier with markings so I know how thick to cut sweet roll dough. This cost a tiny bit of money and has a nice substantial fit in my hand, cuts dough to size thatfast, and plus cleans the counter in no time. Something you never think you need until you get one. Recommend.\n",
      "0.98\n",
      "BECAUSE: \t I used this tray to make baby food in and I bought more because of how awesome these trays are.\n",
      "0.98\n",
      "FULL: \t I don't have a complete knife set and was tired of ruining loaves of bread with my dull chefs knife and other basic kitchen knives.  In all honesty the main reason I purchased this particular knife was that it was the cheapest.  Having good luck with other Oxo products previously purchased, I wasn't to hesitant to purchase yet another.  It has a sharp serrated blade and a comfortable handle that have easily handled all of my bakery cutting duties (bread and bagels mostly).  This knife is also nice for heavy skinned fruits, easing through pineapples and cantaloupes.  It has also stood up to the dishwasher rather well.  You will not be sad with this knife and will be happy with the outcome of every cut you make.\n",
      "0.98\n",
      "FULL: \t I bought this one as a wedding shower gift but I have the same model that I have used for years.  It holds up nicely and you can put it in the dishwasher.  It can be used for more than just lettuce too.\n",
      "0.98\n",
      "FULL: \t I purchased this brush for the sole purpose of cleaning out my cast iron pans.  The last brush I used was from the dollar store and didn't last very long.  I like that this brush has the tips that branch out at the top, making it easier to clean around the rim of the pans.  I cook everything in cast iron nowadays, and the best way to get out tough residue it to fill the pan half way with water and bring to a slow boil.  from there the brush gets all of the tough stuff out. Then I sent the pan back on the stove for a couple of minutes under heat so the condensation evaporates.  then I spray with oil and let cool so I can store it.  Overall this is a very nice brush for the price.  I think it will last loner than the last based on it's construction.\n",
      "0.98\n",
      "FULL: \t I bought this one to replace a weight-less pressure pot. That one has an issue of leaking steam and hence does not work.This cooker is lightweight, but works very well.\n",
      "0.98\n",
      "FULL: \t This is a very lightweight, all plastic vacuum - not really a true canister vac.  I purchased this vac solely for use in vacuuming my automobiles and it is perfect for that.  The unit is extremely light - perhaps only four pounds or so - meaning that it can easily be lifted and moved around.  It is small - about 16 inches long by 6 inches wide by 8 inches tall - so it will easily sit on a car seat while being used.  Alternately, the hose in long enough so that the \"canister\" unit can be left on the ground outside the car.The angled arm end makes it easy to get under the front car seats while keeping the small head attachment against the carpet for full suction.  As well, the small head attachment is double-headed.  It features a three inch flat head on one side and a bristled upholstery brush on the other - convenient for flipping between car carpets and upholstery.  The only tool that is lacking somewhat is the narrow wand used for getting into tight places.  The wand is designed with a notch cut up into it, so you cannot achieve full suction.  The bag is large enough that you could vacuum dozens of full sized cars before having to change it.  The unit functions perfectly for such use, but it is a bit noisy and gets very hot from even a couple of minutes use.  Nevertheless, the light weight, light duty attributes of this vac means that its design functions well for light work such as vacuuming cars.However, it should be noted that this is a vacuum that costs far less than one hundred dollars, so one should not expect a true, heavy-duty canister vac.  It is a very light duty vacuum and not one that I would consider using extensively in my house.  The unit is a noisier than mid- or high-end vacuums and at four pounds with rather cheap all-plastic construction with a motor that gets very hot rather quickly, it doesn't have the feel of a vacuum that would last more than a year or two with household use. As well, the full-size floor head is a lightweight plastic unit that attaches via two hard plastic hose lengths - not a fixed, full-size arm - thus use on household carpets or floors would be awkward for some.I like this unit and am very happy with its performance for the use for which I purchased it, but anyone purchasing it for extensive household use might consider this as an auxillary or supplemental vacuum and not the single unit for such use.\n",
      "0.98\n",
      "FULL: \t I used to own a White Mountain hand crank ice cream maker -- I figured that was the only \"real\" way to make ice cream, rock salt and all. I bought this device and raced them head to head and the next week the hand crank maker was out by the curb for trash collection!This thing works GREAT! Use your imagination and try some fresh fruit sorbets, make a simple syrup and then freeze it with lime juice, for instance -- it's incredible! I find that using instant espresso powder gives me a real coffee flavor kick when I make coffee ice cream. And there's a recipe in the included booklet for Jell-O Pudding Ice Cream, which my kids rave about.I found some apricot juice at the market and used it in the ice cream maker -- it turned out some gourmet-like apricot sorbet! WOW!!!I tend to avoid the heavy cream called for in the recipes and use at most half and half with milk. Too much milkfat tastes gross. Too little tastes icy and awful.It's simple, it works well, it's not all that expensive and the ice cream you'll make is easily better than the most expensive storebought ice cream available! The machine has a small footprint and the only noise it makes is kind of a \"rawr rawr rawr\" as it rotates the central vessel. All you have to do is mix the ice cream base, pour it in the machine and flip the switch!\n",
      "0.98\n",
      "FULL: \t I purchased 3 of these bowls, two as a gift to a MD patient that has control and weight issues. Its as if this system was designed for those with disabilities and the rest of us get to enjoy the benefits too.\n",
      "0.98\n",
      "FULL: \t I had an old salad spinner that finally died so my husband picked up a cheapy at Walmart. Big mistake. It had a cord that frayed and broke after only six months. I bought this one on Amazon and am very happy with it. The large size is perfect for use when entertaining and the push plunger mechanism is solid, with no cord to fray and snap! I have a feeling this salad spinner will be around for years and years.\n",
      "0.98\n",
      "FULL: \t I purchased this originally to help scoop and transfer all my chopped items from the counter to the pan. But, it was perfect for making all of my pie dough.\n",
      "0.98\n",
      "FULL: \t I got this spinner and like it but it's way too big for my needs.  Maybe if you have a family of 8, this would work just fine.\n",
      "0.98\n",
      "BECAUSE: \t It was a good thing that I ordered again because my old one of more than ten years broke down\n",
      "0.97\n",
      "FULL: \t I bought this salad spinner when the one I purchased at Target broke. It had a pull cord that jammed, so I was looking to avoid that feature. This one works great. I normally do two spins to be very thorough. I spin once, open it up, take out the basket, tip out any liquid, shake the lettuce in the basket, reassemble and spin once more. If you're prepping a lot of greens, I recommendProgressive International LKS-06 Lettuce Keeperto store lettuce for a week+. Also, this might just be me, but I'm not totally comfortable using the bowl to serve from as others have described. I mean, aren't you spinning off water that is removing dirt and chemicals from the greens? And aren't those chemicals and dirt thus being spun onto the sides of the bowl? It would make a nice serving bowl, but I'd probably wash it post spin and pre serve.\n",
      "0.97\n",
      "FULL: \t I purchased this salad spinner to replace an old one that was falling apart.  What an improvement!  I like the way this one doesn't slide around on the counter when it's in use.  I love the \"push button\" operation--much easier to use than cranking a handle on my previous spinner.  Another advantage of this product is easy cleaning--the top separates easily so it can be cleaned well, and it's all fine for use in the dishwasher.I use it to clean cut-up vegetables in addition to salad greens--great for soaking them and drying them thoroughly before roasting in the oven.  It's a great little product--I'd recommend it to anyone.\n",
      "0.97\n",
      "FULL: \t I purchased this ice cream maker after reading all of the reviews. Since I own a chest freezer I use it to store the bowl and have avoided the problem some mentioned concerning the ice cream not freezing well. I must say I love this appliance! It works exactly as advertised and I have been enjoying some of the best ice cream in my life. I would definitely recommend this to anyone looking to purchase an ice cream maker.\n",
      "0.97\n",
      "FULL: \t I grew up with electric can openers that inevitably broke or had a hard time attaching to the can, then the contents often spilled as I removed it from the magnetic holder. Back then the alternative was a hand-held manual one that was actually painful to use.After marrying we bought an electric can opener which broke soon thereafter. While waiting for the day when it was to be repaired (which ended up being never), I bought this OXO manual can opener thinking it would be a temporary and inexpensive solution. It is awesome. We have been using ours for about 5 years and it is still going strong. It is fast, easy to use, and comfortable. There is no pain or discomfort when holding it. It cuts the can cleanly and is just plain easier to use than electric can openers. We are sticking with the OXO can opener and not going back to electric openers.I highly recommend this can opener, ditch your electric can opener and make things easier on yourself!\n",
      "0.97\n",
      "FULL: \t Very happy I bought this little brush for getting the wax covering off apples. Also use it on pears and potatoes and carrots. If fruit has gotten soft like ripe peaches, then it's a little too stiff, but the soft brushes won't really work on the hard stuff. So you really do need both.\n",
      "0.97\n",
      "BECAUSE: \t The reason I purchased this brush is because I hand wash all of my dishes and needed something to get my Mason/Ball jars and other narrow mouthed containers clean.  \n",
      "BECAUSE: \t However, like a few other reviewers, I think it'd be a bit nicer if it had more bristles and/or that the bristles covered more of the brush head because it does leave bits behind every now and then.\n",
      "0.97\n",
      "BECAUSE: \t It has been well worth it because I've used it a lot during that time.\n",
      "0.97\n",
      "FULL: \t If you want to wow your dinner guests, whip up a batch of the strawberry sorbet.  The recipe's included in the manual.  You won't be disappointed.  I purchased this item from another online retailer and bought it refurbished.  It works terrific and I'm very pleased with my purchase.\n",
      "0.97\n",
      "FULL: \t I am very glad I purchased this brush.  It fits nicely in my hand and gets the job done.  I purchased a bag of potatoes which turned out to be the dirtiest I have ever seen. This brush gets them clean!\n",
      "0.97\n",
      "FULL: \t I bought my ice cream maker years ago and have never had a problem! In fact, I bought one for my Mom a year or so afterwards. They both get a lot of use and get high marks all around!\n"
     ]
    }
   ],
   "source": [
    "for doc in fp_docs_sorted[:50]:\n",
    "    print(f\"{doc.cats[label]:.2f}\")\n",
    "    printed_because = False\n",
    "    for sent in doc.sents:\n",
    "        if \"because\" in sent.text:\n",
    "            printed_because = True\n",
    "            print(\"BECAUSE: \\t\", sent.text)\n",
    "    if not printed_because:\n",
    "        print(\"FULL: \\t\", doc.text)"
   ]
  },
  {
   "cell_type": "markdown",
   "metadata": {},
   "source": [
    "✅ **Rule Additions:**\n",
    "- Other Prepositional reasons: `I bought this tool [for/to/as/because]`\n",
    "\n",
    "🚫 **Noted Exclusions:**\n",
    "- None\n",
    "\n",
    "💭 **Other Ideas:**\n",
    "- None"
   ]
  },
  {
   "cell_type": "markdown",
   "metadata": {},
   "source": [
    "## Finalize Patterns\n",
    "We can continue this cycle as long as we need to. Additional cycles will depend on your business problem, how consistent your data is, and how complex your match rules need to be. At this point we've reviewed the data twice and we'll build the final match rule for this problem.\n",
    "\n",
    "Due to the complexity of language and the inconsistency of our data, we will still likely have some false positives: `I bought this at walgreens for much less...` being one example. In this case, the best place to handle these would some additional logic be in the `on_match` function, since the tail of the sentence contains the tokens after our match."
   ]
  },
  {
   "cell_type": "code",
   "execution_count": 33,
   "metadata": {},
   "outputs": [],
   "source": [
    "patterns_3 = [\n",
    "    [\n",
    "        {\"LOWER\": {\"IN\": [\"i\", \"we\"]}},\n",
    "        {\"POS\": \"ADV\", \"OP\": \"?\"},\n",
    "        {\"LOWER\": {\"IN\": [\"bought\", \"purchased\", \"got\", \"ordered\"]}},\n",
    "        {\"LENGTH\": {\">=\": 1}, \"OP\": \"*\"},\n",
    "        {\n",
    "            \"LOWER\": {\"IN\": [\"for\", \"to\", \"as\", \"because\"]},\n",
    "            \"POS\": {\"IN\": [\"ADP\", \"PART\"]},\n",
    "        },\n",
    "    ]\n",
    "]\n",
    "\n",
    "third_rule = MatchRule(\"third_rule\", patterns_3)\n",
    "Doc.set_extension(third_rule.name, default=[], force=True)\n",
    "if matcher.has_key(third_rule.name):\n",
    "    matcher.remove(third_rule.name)\n",
    "matcher.add(third_rule.name, add_shortest_match, *third_rule.patterns)\n",
    "\n",
    "for _ in matcher.pipe(parsed_subset):\n",
    "    pass  # leave it to the callback"
   ]
  },
  {
   "cell_type": "markdown",
   "metadata": {},
   "source": [
    "#### Statistics and Sanity Check"
   ]
  },
  {
   "cell_type": "code",
   "execution_count": 34,
   "metadata": {},
   "outputs": [
    {
     "name": "stdout",
     "output_type": "stream",
     "text": [
      "383 matches. 7.66% of data\n"
     ]
    }
   ],
   "source": [
    "total = sum(bool(d._.third_rule) for d in parsed_subset)\n",
    "length = len(parsed_subset)\n",
    "print(f\"{total} matches. {(total/length)*100:.2f}% of data\")"
   ]
  },
  {
   "cell_type": "code",
   "execution_count": 35,
   "metadata": {},
   "outputs": [
    {
     "name": "stdout",
     "output_type": "stream",
     "text": [
      "I bought this zoku quick pop for | my daughterr with her zoku quick maker.\n",
      "I got this as | a gift for my niece and she loved it.\n",
      "I got this for | my daughter in law.\n",
      "I bought this book to | help me out with decorating cakes and cupcakes as a beginner.\n",
      "I bought other things in the book from Amazon, however, the list goes on too long to | keep mentioning everything.\n",
      "I bought this book to | find out that I have the same one with just a different cover!\n",
      "I purchased the Wilton Course 1 guide a few weeks before I took my class, I found the book very easy to | follow and easy to understand.  \n",
      "I bought this for | my daughter.  \n",
      "I got this book for | my daughter as the local craft store wouldn't let her take this class unless she took the other two first which she doesn't need.\n",
      "I also bought the class kit to | go with it and it works great.\n",
      "I got this for | my bf and he loves it.\n",
      "I bought one for | myself and everybody that sees it loves it.  \n",
      "I bought this for | my boyfriend and he just loved it!It was really good quality for the money.\n",
      "I purchased this for | my son's first birthday and the theme is mickey and it will make great fun mickey shaped cookies and fruit shaped Mickey's.\n",
      "I purchased these to | freeze baby puree and they work great.\n",
      "I just bought one for | my mother.  \n",
      "I ordered these to | go with the plates and am very pleased that they are exactly 8 oz as I monitor the amount of liquid I consume each day\n",
      "I bought two sets and had my daughter take one home for | their use at home.  \n",
      "I ordered this one for | my daughter, and, she loves it.  \n",
      "i bought this mainly to | chop onions and such to save time of chopping by hand, but no matter what i do i end up with mush and chunks of onion.  \n",
      "I bought this item specifically for | grinding spices and herbs for indian cooking.\n",
      "I purchased this in advance for | what I knew was going to be a lot of food prep Labor Day Weekend.\n",
      "I bought it for | its small size to put in my camper, but liked it so much it has a place in the house.\n",
      "I bought this unit to | replace one I had purchased in 1995 or 1996.  \n",
      "I bought this to | grind mustard seeds when I found out I was obsessed with home made mustard.\n",
      "I got a Melitta coffeemaker to | replace it  and the coffee tastes much better!\n",
      "I purchased a second one (amazon sale for | $59.99)since it was cheaper than buying the individual replacement parts.\n",
      "I bought this product on the recommendation of my son to | make cranberry ice for Thanksgiving.  \n",
      "I bought this for | me last summer, and I loved it so much, I bought another as a gift.  \n",
      "I purchased ICE-20FR on February 6, 2002 from Amazon for | $29.99 re-conditioned\n",
      "I bought a device to | show me the temps and now i keep my freezer at 0F and my fridge at 34F-35F -\n",
      "I purchased mine through Amazon due to | their great customer service but it seems very misleading and unnecessary for them to mark it up just to give the impression you are saving money by purchasing at the amazon site.\n",
      "I bought this device and raced them head to | head and the next week the hand crank maker was out by the curb for trash collection!This thing works GREAT!\n",
      "I BOUGHT THIS TO | HELP ME MAKE DIET DESSERTS I COULD EAT ON A DIET.\n",
      "I got this ice cream maker primarily to | make sorbets and the occasional batch of ice cream.  \n",
      "I bought this ice cream maker on Amazon close to | two years ago and it is still going strong and making great ice cream!\n",
      "I bought the red unit which adds a fun color to | my kitchen when not in use.\n",
      "I bought this machine for | my husband following the recommendations here.\n",
      "I bought this as | a Christmas present to myself last year.\n",
      "I bought this for | my elderly mother and she loves it!  \n",
      "I even bought an extra freezer bowl in case I want to | make 2 flavors the same day.  \n",
      "I ordered the book with the hope of being  able to | duplicate the Stracciatella(?)\n",
      "I bought mine at bed, bath & beyond for | $ 40.00.\n",
      "I bought this for | my husband who is an ice cream junkie!\n",
      "I got one of these ice cream makers as | a Christmas gift, and it's been fantastic.\n",
      "I bought this for | my son for his birthday.  \n",
      "I bought this unit in hopes it would fill in a gap in our 'desert self-sufficiency', that is our ability to | make rather than buy whatever we were craving and avoid having to hump into town for supplies.\n",
      "We bought this AC timer to | use in conjuction with a heated pet bed for a crate on our back porch.  \n",
      "I actually bought two units - the 2nd one as | a back-up - and, removed all of the \"ON\" and \"OFF\" trippers from the back-up unit to use on this one.  \n",
      "I purchased this fan to | replace a fan I had on my kitchen window for over 20 years.\n",
      "I bought it knowing that it would never really heat my area up to | the temperatures given.  \n",
      "I just bought mine from rural king for | $59 .\n",
      "I bought it for | my bedroom but decided that due to the noise it was better suited to the living room.\n",
      "I bought an Air King 20\" (same manufacturer of the Lasko) whole house fan a couple of years ago and it proved to | be too much fan for my &lt;\n",
      "I purchased this to | use with my indoor bike trainer.\n",
      "We got a mirro 4 Qt as | a wedding gift.\n",
      "I bought this only to | make apple sauce.\n",
      "I got this for | my parentsThey didn't want a large size, and this was just what they were looking for.  \n",
      "I got for | camping and keep my big one at home.  \n",
      "I purchased for | her a Presto 6 quart and 4 quart cooker.  \n",
      "I bought this to | replace a Presto 4 Quart Pressure Cooker that was 45 years old and would no longer hold pressure even with a new gasket.\n",
      "I bought it to | cook beans but it comes with a few recipes if you are new to pressure cooking\n",
      "I bought it to | replace my old 6-Quart Presto pressure cooker that worked well and faithfully for many years.  \n",
      "i bought this over a year ago and finally decided to | write a review after having used it.  \n",
      "I bought this one from Amazon and it works great for | one reason:\n",
      "I got it many years ago and haven't even had to | replace the rubber yet.\n",
      "I got the 4-quart as | it's just me and hubby here, but I did not realize you can't fill this more than 2/3rd full.  \n",
      "I bought this cooker 6 months ago from amazon for | $35, and frankly, although the reviews I read on this product all said that it's great, I was very skeptical about the $35 price tag and was not expecting much.  \n",
      "I bought this as | a replacement for my 40 year old pressure cooker.\n",
      "I bought this one to | replace a weight-less pressure pot.\n",
      "I actually bought this for | two reasons--to cook meals quicker and using less electricity.\n",
      "I purchased this one for | my brother, who loves to cook and loves new gadgetry.  \n",
      "I bought this one for | my daughter and gave her a few &#34;cooking\n",
      "I bought this to | quickly make stocks, and cook soups and vegetables.  \n",
      "I ordered a second cooker for | my busy career oriented daughter but then cancelled the order after reading the instructions as I am not sure as busy as she is that she would read and follow them.  \n",
      "I ordered the Presto Stainless Steel Pressure Cooker, I have nothing bad to | say about the product or about Amazon.  \n",
      "I bought a 10 dollar pot to | fit inside and now I can dal with the best of them.\n",
      "I bought this pressure cooker to | make chili.\n",
      "I purchased the steamer for | my daughter and myself,  and the lid for myself.  \n",
      "I purchased this for | my mother who loves to cook (for everyone).\n",
      "I got this for | my old Vac.\n",
      "I ordered this belt for | my vacuum and it turned out to be the wrong one.\n",
      "I got the tile cleaned in no time with this machine, it did a beautiful job cleaning and restoring the tile to | like new condition.\n",
      "I bought four of these for | $27 each at Home Depot.  \n",
      "We purchased two Action Packer cargo boxes to | fit on our Valley Cargo Carrier.  \n",
      "I got the 35-gallon size to | store some items in the basement that I wanted to be able to get to conveniently but also be able to lock up and keep out of the kids' hands.\n",
      "I bought this to | mount on a bike trailer from CycleRevolution in Oregon.\n",
      "I purchased 2 of the 24 Gallon size, one to | use as an emergency medical supply container and one to utilize as a portable survival (bug out) box.\n",
      "I bought it for | the back of my daughter pick up truck (dodge Dakota).\n",
      "I purchased it to | store my hunting clothes.\n",
      "I bought an ActionPacker box exactly like this one many, many (20?) years ago to | serve as a newspaper box on my front steps.\n",
      "I purchased it through Amazon and it's PERECT for | my home office.\n",
      "I purchased this vac solely for | use in vacuuming my automobiles and it is perfect for that.  \n",
      "I bought this to | replace an old euro-pro vacuum that I had for 10 years that worked beautifully.  \n",
      "I purchased this Mighty Mite to | replace one I had over 15 years.  \n",
      "I bought one for | my summer house and then bought one for my other house.  \n",
      "I purchased this as | a classroom vacuum, but ended up using it in the art studio.  \n",
      "I purchased two; one for | our main house and the other for our vacation rental.\n",
      "I bought it for | quick pick-ups between major cleanings, and it works well enough for that.\n",
      "I bought this vacuum to | keep bedroom and bathroom floors tidy.  \n",
      "I got this to | use every day as I have a dog who sheds a lot.\n",
      "I got this for | my son when he moved to his own place.  \n",
      "I bought this to | clean up the bits of cat litter my cat tracks onto the bathroom floor  when he jumps out of his litter box.  \n",
      "I bought this vacuum about two years ago (the version with only one battery), and now need to | replace the battery.\n",
      "I ordered this primarily bc it was cordless since I have handicap issues never expecting it to | pick up like a regular vacuum.\n",
      "I bought it to | replace my dead swifter.\n",
      "I got the Steamvac Jr. to | clean up small stains left by my dog, who likes to chew treats on our off-white carpet, and who spends hours each day on our beige sofa.\n",
      "I just got this today to | clean up a mess my cat made on my couch.  \n",
      "I purchased this timer to | replace an earlier version of the same timer that stopped working.  \n",
      "We bought 3 more for | other fans.\n",
      "We got these for | our bathroom exhaust fans and they work just fine.\n",
      "I bought this unit to | replaced an old metal faced wall timer that had finally stopped working after 15 years, and I was very surprised to find the build quality was just as solid as the one it was replacing.\n",
      "I bought these storage boxes to | go with my Lee Precision Turret Press.\n",
      "We purchased these bags for | the first time in May 2001.  \n",
      "I just purchased this double pack and I rarely use the vacuum, as | there's only a single rug in the house.\n",
      "I just bought myself a new Hoover Windtunnel Vac and thought it would be a good idea to | purchase those extra belts and filters so that when I need them I don't have to go to the store and try to find the right parts.  \n",
      "I bought these and they seem to | last longer.\n",
      "I got this for | my sister when her fan stopped working for her.\n",
      "I bought two of these, and they are mostly used to | blow air through the house on cooler days-where it is not really hot enough to fire up the AC, but too warm to just rely on a breeze.===\n",
      "I bought this fan in a pinch for | the summer heat and it works well enough.\n",
      "i bought this for | white noise when i sleep, and it makes a consistent whirring sound which suits my noise needs just fine.\n",
      "I purchased them at walgreens for | much less...\n",
      "I bought one for | my mother some years ago due to her arthritis.\n",
      "I bought one for | myself and then for all my family members.\n",
      "I originally bought it to | replace the peeler that came in my Culinary School tool kit.\n",
      "I bought this for | peeling fruits and veggies to make my own baby food.\n",
      "We also purchased one of these for | my parents a few years ago and they still comment about how good it is.\n",
      "I bought these for | my envious sister 'n law\n",
      "I bought this peeler to | replace one that was getting dull.  \n",
      "I got mine years ago and just bought 2 for | family members.  \n",
      "I bought a new Oxo as | my other one was old ....\n",
      "I bought this tool for | that reason and when I tried it it worked just like it was designed for that.\n",
      "We ordered two of these and they work really well when it comes to | preparing apples for the pies.\n",
      "I bought this originally to | core and fill cupcakes.\n",
      "I got this one and the \"OXO Good Grips Grater\", and the \"OXO Good Grips 3Piece Peeler Set\" for | my honey.\n",
      "We bought this hand grater to | replace an aluminum hand grader with a looped rolled aluminum handle.\n",
      "I got this and it is great for | opening cans of broth when your cooking, or cans of formula for a baby.\n",
      "I got it to | use on 2 liter bottle caps and it works great as I had hoped.\n",
      "I bought this to | use for my cast iron skillets.\n",
      "I recently bought a Cuisinart Griddler Junior indoor grill, which has removable grills, and the brush gets those as clean as | can be and eliminates the need for me to use the plastic scraper that came with the grill.\n",
      "I bought this to | clean my cast iron pans.  \n",
      "I bought this to | replace my previous five year old OXO brush.\n",
      "I purchased this brush for | the sole purpose of cleaning out my cast iron pans.  \n",
      "I bought this to | replace one of those old, very thin serrated knives that comes with a set.\n",
      "We got this knife after receiving a breadmaker as | a gift.  \n",
      "I just bought 4 of your knives, but after trying for | two hours to get one out of its package, I gave up.\n",
      "I bought this for | my husband, who loves peanut butter.\n",
      "I only bought it to | take advantage of the 4 for 3 promotion, and as it turns out, I use it almost everyday.  \n",
      "I bought this set when I first moved into my apartment, as | I've been a fan of the Good Grips products for a while now.\n",
      "I got this meat tenderizer today and as | always oxo has made a great product however I must admit I was a little dissapointed that it CANNOT BE PUT INTO THE DISHWASHER.\n",
      "I got this for | my daughter, who loves the weight and the balance.\n",
      "I bought one for | myself and our 6 children\n",
      "I bought it as | a gift but considered stealing it and giving my old one.\n",
      "I got this for | the peeler or twist maker part more than the zester part, and now that it's sharp it works ok for that.  \n",
      "I primarily purchased the ricer for | making mash potatoes\n",
      "I never bought the ricer for | ricing potatoes.  \n",
      "I purchased this to | make baby food based on all the positive reviews.  \n",
      "I bought this as | a gift for my mom for Christmas.  \n",
      "I purchased and used this OXO Good Grips Potato Ricer for | the first time this past Thanksgiving to make Tyler Florence's Velvelt Mashed Potatoes and I have to say that everyone loved the potatoes, and I love this ricer!The ricer was super easy to use(and\n",
      "I first bought this to | squeeze out the juice from potatoes when making hash browns but its first use was actually making mashed potatoes.  \n",
      "I bought for | a shower gift for a bride whom lives down south.\n",
      "I bought these for | a crab feed that hasn't happened yet.  \n",
      "I bought one of these a few years ago as | I'm usually quite a fan of the Good Grips range of kitchen utensils and have rarely been let down by one.\n",
      "I bought these as | a gift for my sister-in-law.  \n",
      "I also bought a 16 inch for | my BBQ grill since the one I have for BBQ grill is not good to use.\n",
      "I just bought the 16&#34; & 9&#34; sizes for | almost $30 and if they are as good as the older 12&#34; ones, I'm OK with spending that coin.\n",
      "I bought about 5 of these just to | have on hand while the others are in the dishwasher...love them!!!\n",
      "I bought them to | use with my baby Q grill and they are perfect.\n",
      "I purchased these tongs for | barbecuing and removing items from the hot pressure cooker.  \n",
      "I bought these specifically for | my grill\n",
      "I bought two pairs in December for | my son and daughter.  \n",
      "I actually got them as | part of a 10-piece utensil set and this is my favorite piece from the set.\n",
      "We also got the teflon coated ones for | salads and more 'fragile' foods.\n",
      "I bought them for | my husband, as I read about them on some blog about a man's kitchen or masculine cooking utensils.  \n",
      "I bought these, but there not as strong as | Binder Clips, that I bought at the stationary store, and the binder clips are alot Less money, and you get a box of them, not just 4...\n",
      "I purchased these bag clips, as | I was tired of those cheap bag ties that are on a loaf of bread!\n",
      "I just bought this one a month ago, and though its longevity  has yet to | be proven, I just had to slice a TON of cheese for a large family Christmas party of 30 people, and was SO glad I bought this when I did!\n",
      "I bought OXO wires to | replace the wire that will soon break.  \n",
      "I got to | use it about 4 times when it broke during the cutting of a piece of cheese.\n",
      "We even got an electric one as | a gift.\n",
      "I bought at least three spinners after that--all went to | the dump.  \n",
      "I got tired of purchasing the already shredded/cut romaine for | salads.\n",
      "I bought this as | a gift for someone - and I'm a bit envious as I have the original white one.  \n",
      "I just bought this item to | replace a 8-year old Zyliss\n",
      "I got this as | a gift for my Mom\n",
      "I recently purchased one for | my sister as she was complaining about the cheap one she has.  \n",
      "I bought this one as | a wedding shower gift\n",
      "We got this as | a gift some time ago for our daughter.\n",
      "I bought this one to | replace the softworks model that we wore out (after about 5 yrs).  \n",
      "I got this for | my son for Christmas\n",
      "I bought my spinner from Amazon in 2003 for | not too much less than they cost now.\n",
      "I bought this to | replace a KitchenAid spinner.  \n",
      "I purchased it as | a Valentine's day gift...\n",
      "I got one of these at Target for | my son for Christmas and loved the easy spinning so checked Amazon and sure enough,\n",
      "I purchased this salad spinner to | replace an old one that was falling apart.  \n",
      "I bought this to | replace my old OXO Good Grips Salad Spinner (OXO SoftWorks Salad Spinner) when the bowl shattered.\n",
      "I bought this as | a gift for my mom, and she loves it too.\n",
      "I got the little one and it is just right for | spinning lettuce for 2 and then storing the remainder in the spinner.  \n",
      "I purchased it to | replace a larger, bulkier spinner I had.\n",
      "I never bought the pre-packages of mix greens, didn't care for | them, so now I have no more excuses to eat salads.\n",
      "I purchased the large clear model and use it to | store my greens after spinning the salad greens and pouring out the water.\n",
      "I got the OXO now, and it's a pleasure to | use.  \n",
      "I bought this as | a gift for a friend of mine, and it works great.  \n",
      "We purchased this corer/slicer to | replace an existing OXO corer/slicer that was about 10 years old and used to slice hundreds of applies.  \n",
      "I got this for | myself to speed up making the kids' lunches and I love it.\n",
      "I got what I paid for | .\n",
      "I bought this brush as well as | the Oxo Good Grips Soft Grip vegetable\n",
      "I bought this to | clean potatoes, and I must say it is a great product!  \n",
      "I bought this as | a potato/vegetable brush, and it works great!  \n",
      "I bought this for | $3.99 and the shipping on it was free, by itself.  \n",
      "I bought this to | use for cleaning dishes and light scrub on pans.  \n",
      "I got this brush to | replace my vegetable brush that had a handle and was all plastic.  \n",
      "I purchased a bag of potatoes which turned out to | be the dirtiest I have ever seen.\n",
      "I bought it to | qualify for a free S&H, and it works great.\n",
      "I bought the stainless version for | the cast iron pans, and a silicone over stainless version for the non stick.\n",
      "I bought this spatula to | use with my cast iron skillet.\n",
      "I bought this for | friend who likes to make omelets and was have hard time flipping them in small skillet.  \n",
      "I just bought a new frying pan and decided it was time I learned to | cook eggs over easy.  \n",
      "I bought two of these and although I agree the concept is great, they are sooooo poorly executed and a pain to | use.\n",
      "I bought a couple silicone cube shape trays at the same time and I am going to | stick to them until someone comes up with a really great user friendly tray that makes generous sized ice.\n",
      "I bought these trays to | use when I have too much spinach or kale.  \n",
      "I bought these to | use as molds for the fresh baby food I make then freeze for my daughters meals.\n",
      "I bought this when I learned how much cheaper it was to | buy oysters from the fish market than from a restaurant.\n",
      "I bought these probably close to | a year ago and they are still as solid as the day I got them.\n",
      "I got this to | try since I am a huge fan of OXO Products.\n",
      "I ordered this to | not actually clean dishes, but clean out my pedestal sink as the bowl is rounded and oval and very hard to clean with a traditional brush.\n",
      "I bought this for | the office break room and it works great.  \n",
      "I purchased this strainer specifically for | straining cold brewed iced coffee.  \n",
      "I bought this strainer to | strain my home-made soy milk and it does a great job.\n",
      "I bought this to | replace my nut milk bag (too difficult to clean well) and cheesecloth (not reusable.)  \n",
      "I bought this for | the french press coffee grounds and i didn't want to clog up my kitchen sink and this item works great.\n",
      "We bought this to | rinse our quinoa.  \n",
      "I bought this today to | strain my homemade yogurt.\n",
      "I bought this to | replace an old strainer I had used for years that had belonged to my Mother.\n",
      "I bought this to | strain quinoa that would've slipped through the larger slits in my pasta colander.  \n",
      "I got this for | my chef in training daughter.  \n",
      "I ordered this as | a large strainer for juice and yogurt\n",
      "I bought this to | replace my large strainer that's many years old.  \n",
      "I got tired of getting scratched by the old fraying strainer we used to | use so\n",
      "I bought the 6 inch one, and it's the perfect size, just large enough, just deep enough, for | one or several portions of quinoa!\n",
      "I purchased this to | replace my antiquaited bent melon baller that I have had for over 20 years.\n",
      "I initially bought this to | produce nice sized melon balls for fruit trays and fruit salads; it does a wonderful job.\n",
      "I ordered one from Amazon when I got home, and when it arrived, I donated by other four peelers (I've tried quite a few!) to | Purple Heart.  \n",
      "I purchased many OXO utensils for | my elderly parents after reading reviews.  \n",
      "I got this pie server for | my grandma.\n",
      "I purchased another to | have one available whenever the first one is in the dishwasher.  \n",
      "I got this for | my mother in law and she loves it.  \n",
      "I purchased a second one for | my Mother in law who liked mine.\n",
      "I bought this masher to | replace an old plastic one I had.  \n",
      "I actually bought it to | mash things other than potatoes though.  \n",
      "I bought both the black and the brown Woven Chenille Small Cross Body Bags for | when I don't need to carry much more than keys, some ID, some money and a few tissues.  \n",
      "I bought this to | replace a new electric hand held opener that had been stashed away for years (it operated so slow\n",
      "I bought this to | replace the can opener that I have had for around seven years maybe?  \n",
      "I bought several supermarket versions and they were not much cheaper than what I paid for | this OXO, however they were useless.\n",
      "I purchased a new can opener on a whim a few years ago at a local grocery store, and it worked well for | the most part; however, I put it in the dishwasher a few too many times and it was shot.\n",
      "I purchased this can opener as | our old one started lose grip on the cans while opening.  \n",
      "I bought one for | my 80+ year old family members and they use it with ease!\n",
      "I also bought one as | a gift.  \n",
      "I got this for | a friend and she is happy with this product\n",
      "I purchased this for | my mom who has issues with her hands.  \n",
      "I bought this for | my parents as a gift.  \n",
      "I bought this on Novermber 30, 2011, but I wanted to | wait a little while before I wrote this review.  \n",
      "I bought this mainly to | use for a pumpkin pie recipe.\n",
      "I bought this to | use with a cast iron skillet that melted my favorite plastic spatula.  \n",
      "I bought this to | replace a plastic, old spaghetti server I had.\n",
      "I bought two - one for | my daughter, one for me.\n",
      "I bought this for | a cast iron skillet.  \n",
      "I bought this spatula to | use with my cast iron pieces and I love it.  \n",
      "I got one for | my parents but didn't want to steal too much from them\n",
      "I bought it for | serving, so thumbs up for that and its pretty too\n",
      "I bought this and have been using it on an almost daily basis for | about 2.5 months.\n",
      "I bought one for | its spout and handle and discovered it was ideal for my single-handed niece.\n",
      "I bought two of these bowls to | replace two other bowls that were left behind during a military move.\n",
      "I bought two bowls in this series, and I use them for | everything.\n",
      "I purchased 3 of these bowls, two as | a gift to a MD patient that has control and weight issues.\n",
      "I ordered another set to | keep on hand.\n",
      "I bought two of these one for | her and one for me.\n",
      "I bought this for | my wife a few months ago - ... as my wife had said she was looking for a mixing bowl, and she liked Oxo products anyway.\n",
      "I bought the spatula for | the handle.  \n",
      "I bought this to | get over the limit for free shipping.\n",
      "I purchased a few of these for | myself and friends.\n",
      "I bought this to | replace the exact same spatula that I already had.  \n",
      "I accidentally got mine nasty one day and couldn't use it for | food anymore.  \n",
      "I purchased this to | use for a culinary class that I signed up to take over the summer, but I have already started using it now.\n",
      "I got 2 and both are great, they also work great for | chopping :) have not had to sharpen yet !!\n",
      "I bought this to | scoop all the cut up pieces on my cutting board.  \n",
      "I purchased it for | one reason:  to scrape my cast iron cookware.  \n",
      "I purchased the scraper/chopper to | use in my kitchen for kitchen prep it will do the job for me just fine.  \n",
      "I even bought extras for | my\n",
      "I bought mine to | use on my cutting block.  \n",
      "I bought this utensil primarily as | a scraper for prep cleanup.\n",
      "I purchased this originally to | help scoop and transfer all my chopped items from the counter to the pan.\n",
      "I purchased this scraper for | lifting dough off of a pastry sheet, but also use it for lifting chopped vegetables off of the cutting board.\n",
      "I purchased this for | working with bread dough, for cutting and dividing dough for pastries.  \n",
      "I bought this scraper to | cut and portion bread dough.\n",
      "I bought another one for | the wood shop to scrape excess glue from joined boards.  \n",
      "I bought this after a trip to | Italy where we used it in a cooking class to make gnocchi.  \n",
      "I bought this along with the Snow River Pastry Board reviewed elsewhere to | use in making bread, a hobby I just took up.\n",
      "I got tired of using various spatulas and knives for | scraping the work surface when making doughs and other messy things.  \n",
      "I got this to | help me with pastries.  \n",
      "I bought this just to | have it\n",
      "I bought this scraper along with aJohn Boos 20-by-15-Inch Reversible Maple Cutting Board, and couldn't be happier with it as | a tool.\n",
      "I got some cheese stuck on my baking stone after making pizza and used the scraper to | clean it off.\n",
      "I got mine on time and as | advertised.\n",
      "I originally bought it to | use for my bread making process.  \n",
      "we probably got it as | the best that a grocery store had to offer, but will replace it with better.\n",
      "I bought this blender to | make pie pastry, and I was thoroughly disappointed.\n",
      "I bought it for | icing sugar cookies with my grandson\n",
      "I got two sizes and they are just the ticket for | making sauces, pudding and such.\n",
      "I also bought the silicone version for | my teflon pans.\n",
      "I purchased the small one also after using this one for | a bit.\n",
      "I bought this OXO Good Grips whisk in the 11\" size thinking it would be good for | many uses.  \n"
     ]
    }
   ],
   "source": [
    "new_docs = (\n",
    "    d\n",
    "    for d in parsed_subset\n",
    "    if d._.third_rule and not (d._.initial_rule or d._.second_rule)\n",
    ")\n",
    "for doc in new_docs:\n",
    "    for match in doc._.third_rule:\n",
    "        span = Span(doc, match[0], match[1])\n",
    "        docstr = f\"{span} | {doc[span.end:span.sent.end]}\"\n",
    "        print(docstr)"
   ]
  },
  {
   "cell_type": "markdown",
   "metadata": {},
   "source": [
    "## Larger Match Test\n",
    "We'll run this on a single product to see what all the results would be."
   ]
  },
  {
   "cell_type": "code",
   "execution_count": 36,
   "metadata": {},
   "outputs": [],
   "source": [
    "asin = \"B00004SPEU\" # coffee grinder\n",
    "product_subset = [\n",
    "    (d[\"reviewText\"], d) for d in data if d[\"asin\"] == asin\n",
    "]\n",
    "\n",
    "Doc.set_extension(\"metadata\", default={}, force=True)\n",
    "\n",
    "parsed_product_subset = []\n",
    "for doc, context in nlp.pipe(product_subset, as_tuples=True):\n",
    "    # FYI, I learned this great way to use attribute extensions \n",
    "    # to store the document metadata from the spaCy course.\n",
    "    # Have you taken it yet? https://course.spacy.io/\n",
    "    \n",
    "    metadata = {k: v for k, v in context.items() if k != \"reviewText\"}\n",
    "    doc._.set(\"metadata\", metadata)\n",
    "    parsed_product_subset.append(doc)"
   ]
  },
  {
   "cell_type": "code",
   "execution_count": 37,
   "metadata": {},
   "outputs": [],
   "source": [
    "for _ in matcher.pipe(parsed_product_subset):\n",
    "    pass  # leave it to the callback"
   ]
  },
  {
   "cell_type": "code",
   "execution_count": 39,
   "metadata": {},
   "outputs": [
    {
     "name": "stdout",
     "output_type": "stream",
     "text": [
      "71 matches. 11.99% of data\n"
     ]
    }
   ],
   "source": [
    "total = sum(bool(d._.third_rule) for d in parsed_product_subset)\n",
    "length = len(parsed_product_subset)\n",
    "print(f\"{total} matches. {(total/length)*100:.2f}% of data\")"
   ]
  },
  {
   "cell_type": "code",
   "execution_count": 40,
   "metadata": {
    "scrolled": false
   },
   "outputs": [
    {
     "name": "stdout",
     "output_type": "stream",
     "text": [
      "Product: https://www.amazon.com/dp/B00004SPEU\n",
      "====================\n",
      "Customers buy this product ...\n",
      "... as Christmas presents because I have one like them and am very pleased with it so feel these three will be just as welcome in their new kitchens.\n",
      "... as a travel accessory, and it will do me quite well.  \n",
      "... as a replacement for a Salton model.\n",
      "... as a Christmas gift for my son in law.  \n",
      "... as a new coffee maker for serving guests of an annual retreat we host in our home.  \n",
      "... as a spice grinder and are very happy.  \n",
      "... as a christmas gift for a friend and it works great.\n",
      "... as a spice grinder and a coffee grinder\n",
      "... as a wedding gift...24 years ago.\n",
      "... because it was cheap and had good reviews, and I have not been disappointed.\n",
      "... because of the excellent reviews.  \n",
      "... because of Amazon reviews but don't remember a particular comment regarding the mess caused by getting the grinds out of the unit.  \n",
      "... because they both had good reviews.\n",
      "... because we had been so happy with it.\n",
      "... for 1 thing and that was to crush and type of nuts and this thing will make them into a powder if you want it to.  \n",
      "... for 4 bucks brand new...\n",
      "... for a gift and the recipient seemed happy.\n",
      "... for an once coffee\n",
      "... for coffee, but it can also be used for spices.\n",
      "... for double the price and it burnt out after like five uses (of grinding cumin nothing hard!!)\n",
      "... for flax seeds, but it works for other spices as well.\n",
      "... for grinding dry spices.\n",
      "... for grinding coffee\n",
      "... for grinding some other stuff\n",
      "... for grinding up spices, but also occasionally use it for coffee.\n",
      "... for multiple purposes, to grind spices and coffee.  \n",
      "... for my daughter and it works faily well.\n",
      "... for my flax seed and it works perfectly!!!!  \n",
      "... for my daughter mainly for her coffee beans.  \n",
      "... for her birthday.\n",
      "... for my man lover who loves his coffee!\n",
      "... for my dad because the one I got 4 years ago still works perfectly.  \n",
      "... for my spices.\n",
      "... for other uses.\n",
      "... for our 2nd home but it dropped and broke.\n",
      "... for our vacation house recently - and it works just as well as the original.\n",
      "... for our RV.  \n",
      "... for the purpose of grinding whole flax seeds.\n",
      "... for the first time, but did not own a grinder.\n",
      "... for the full nutrition benefit.\n",
      "... for the sole purpose of grinding flax seeds.  \n",
      "... for the purpose of grinding flax seeds and it has served me well.\n",
      "... to Louisiana, back and forth across the Atlantic (using a transformer while in Europe); and never experienced a moment's bit of problem.  \n",
      "... to brush it out between uses.  \n",
      "... to brush out the leftover coffee grounds.\n",
      "... to dislodge the packed ground that form just outside of the blade's arc, then flipped the brush around to sweep them out.\n",
      "... to enjoy ground coffee at home and we love it.\n",
      "... to go in my shiny new house as I've finally moved out\n",
      "... to grind beans for cold-brewed coffee.  \n",
      "... to grind spices instead of coffee and it works great.  \n",
      "... to grind xylitol and truvia sweeteners into a powder for cooking.  \n",
      "... to grind my flax in the morning, to add to my oatmeal.\n",
      "... to grind as needed each morning for coffee.\n",
      "... to grind up flax seed, and wound up using it for a variety of herbs beside.\n",
      "... to grind up my espresso beans.\n",
      "... to grind espresso.\n",
      "... to grind whole flaxseed and it is perfect for the job.  \n",
      "... to grind spices.  \n",
      "... to grind our numerous spices, it works great very fine powder.\n",
      "... to grind my flax seed and have not been disappointed.  \n",
      "... to grind flax seeds.  \n",
      "... to grind herbs with, I was getting tired of crushing them.\n",
      "... to grind seeds and nuts and when I saw how quicxkly and easily it ground things up\n",
      "... to grind nuts and flax seeds to put in my smoothies.  \n",
      "... to have on hand in case I ever need it for spices.  \n",
      "... to having had phenomenal luck on my previous purchase 15 years ago.\n",
      "... to replace my old one which finally died after many years of use.  \n",
      "... to replace our Kitchenaid grinder that we had for years.\n",
      "... to replace a Krups grinder I bought in 1993 (In the interim, I've also owned two other low-end grinders similar to this and two burr grinders, which suck.  \n",
      "... to replace one that I had that had stopped working.  \n",
      "... to replace a 20 year old unit of the same type (the old one still works but the blades are too dull now to produce a very fine grind)These new units are not nearly as good as the old ones, even though mine works fine overall.\n",
      "... to use as a spice grinder and it is very effective.\n"
     ]
    }
   ],
   "source": [
    "product_matches = [\n",
    "    d for d in parsed_product_subset if d._.metadata[\"asin\"] == asin and d._.third_rule\n",
    "]\n",
    "\n",
    "product_matches = sorted(\n",
    "    product_matches,\n",
    "    key=lambda d: (d[d._.third_rule[0][1] - 1 : d._.third_rule[0][1] + 1].text),\n",
    ")\n",
    "\n",
    "print(f\"Product: https://www.amazon.com/dp/{asin}\")\n",
    "print(\"====================\")\n",
    "print(\"Customers buy this product ...\")\n",
    "for doc in product_matches:\n",
    "    for match in doc._.third_rule:\n",
    "        span = Span(doc, match[0], match[1])\n",
    "        sent = span.sent\n",
    "        docstr = f\"... {doc[span.end-1:sent.end]}\"\n",
    "        print(docstr)"
   ]
  },
  {
   "cell_type": "markdown",
   "metadata": {},
   "source": [
    "## Conclusion\n",
    "Rule-based matching is great if you need to explain your algorithm, find the position of specific matches within a document, need a fast way to identify matching phrases, and you're comfortable with the linguistic attributes needed to write rules. "
   ]
  },
  {
   "cell_type": "code",
   "execution_count": null,
   "metadata": {},
   "outputs": [],
   "source": []
  }
 ],
 "metadata": {
  "kernelspec": {
   "display_name": "Python 3",
   "language": "python",
   "name": "python3"
  },
  "language_info": {
   "codemirror_mode": {
    "name": "ipython",
    "version": 3
   },
   "file_extension": ".py",
   "mimetype": "text/x-python",
   "name": "python",
   "nbconvert_exporter": "python",
   "pygments_lexer": "ipython3",
   "version": "3.7.3"
  }
 },
 "nbformat": 4,
 "nbformat_minor": 2
}
